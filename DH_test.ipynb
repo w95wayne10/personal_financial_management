{
  "nbformat": 4,
  "nbformat_minor": 0,
  "metadata": {
    "colab": {
      "name": "DH_test.ipynb",
      "provenance": [],
      "collapsed_sections": [],
      "authorship_tag": "ABX9TyOHI3SCwerWMKoBLejcTMX6",
      "include_colab_link": true
    },
    "kernelspec": {
      "name": "python3",
      "display_name": "Python 3"
    },
    "language_info": {
      "name": "python"
    }
  },
  "cells": [
    {
      "cell_type": "markdown",
      "metadata": {
        "id": "view-in-github",
        "colab_type": "text"
      },
      "source": [
        "<a href=\"https://colab.research.google.com/github/w95wayne10/personal_financial_management/blob/master/DH_test.ipynb\" target=\"_parent\"><img src=\"https://colab.research.google.com/assets/colab-badge.svg\" alt=\"Open In Colab\"/></a>"
      ]
    },
    {
      "cell_type": "markdown",
      "source": [
        "A hedger is short 10,000 European calls.  \n",
        "As an option covers 100 shares of stock, N = 1,000,000.  \n"
      ],
      "metadata": {
        "id": "8lZ0eiyn7x2i"
      }
    },
    {
      "cell_type": "code",
      "source": [
        "import numpy as np\n",
        "np.set_printoptions(suppress=True)#, threshold=np.nan)"
      ],
      "metadata": {
        "id": "rIldRg6lEB30"
      },
      "execution_count": 96,
      "outputs": []
    },
    {
      "cell_type": "code",
      "source": [
        "import matplotlib.pyplot as plt"
      ],
      "metadata": {
        "id": "9-8mSQtB6w2H"
      },
      "execution_count": 97,
      "outputs": []
    },
    {
      "cell_type": "code",
      "source": [
        "n = 10\n",
        "s = 100\n",
        "beta = (0.000006575, 0.9, 0.04)\n",
        "h0 = 0.010469\n",
        "H_min = np.min(( h0, np.sqrt(beta[0]/(1-beta[1])) ))\n",
        "gamma = H_min/2\n",
        "gamma_n = gamma/np.sqrt(n)"
      ],
      "metadata": {
        "id": "fR3awE0U1Nta"
      },
      "execution_count": 98,
      "outputs": []
    },
    {
      "cell_type": "code",
      "source": [
        "path = [[(0, 0.7177283775214488, 0.5096778910739062)],\n",
        " [(-30, 0.011216615504632727, 0.15084296849722728),\n",
        "  (-27, 0.015763430707770476, 0.18181994198766227),\n",
        "  (-24, 0.021778579528866197, 0.13840851677291963),\n",
        "  (-21, 0.03308279936487204, 0.17546219749067005),\n",
        "  (-18, 0.050309886402081255, 0.21687571912264136),\n",
        "  (-15, 0.07741780508229343, 0.2628321446473842),\n",
        "  (-12, 0.1193407626766794, 0.31065722128506035),\n",
        "  (-9, 0.1825731824761911, 0.35974773821570155),\n",
        "  (-6, 0.27476903574147066, 0.4095449929278379),\n",
        "  (-3, 0.403545559607843, 0.4596358304979458),\n",
        "  (0, 0.5746897082794098, 0.5096159839616673),\n",
        "  (3, 0.7905319440656073, 0.5594067175703882),\n",
        "  (6, 1.0492243549002236, 0.6089302222791395),\n",
        "  (9, 1.3453963968770697, 0.6578027656858102),\n",
        "  (12, 1.6717408380351035, 0.7056375561392123),\n",
        "  (15, 2.020802766549826, 0.7519167532030276),\n",
        "  (18, 2.386196211633265, 0.7960887005843771),\n",
        "  (21, 2.763052556101423, 0.8356698703367784),\n",
        "  (24, 3.1473657484181055, 0.8708806077094515),\n",
        "  (27, 3.5386304353547873, 0.8331765575596729),\n",
        "  (30, 3.9328952652477525, 0.862133494856804)],\n",
        " [(-70, 0.0, 0.0),\n",
        "  (-66, 0.0, 0.0),\n",
        "  (-62, 0.0, 0.0),\n",
        "  (-58, 0.0, 0.0),\n",
        "  (-54, 0.0, 0.0),\n",
        "  (-50, 0.0, 0.0),\n",
        "  (-46, 0.0, 0.0),\n",
        "  (-42, 0.0, 0.0),\n",
        "  (-38, 1.5460506877653348e-06, 0.026270305724057905),\n",
        "  (-34, 2.14056714487993e-05, 0.07860926324226031),\n",
        "  (-30, 1.0549472426766452e-17, 5.757969493066212e-15),\n",
        "  (-26, 0.0010347730999187704, 0.18248537112119576),\n",
        "  (-22, 0.00474470679519351, 0.2340252534295541),\n",
        "  (-18, 0.003800965478844398, 0.20620087067620682),\n",
        "  (-14, 0.05085741375739628, 0.3363154523290779),\n",
        "  (-10, 0.12386093191428023, 0.38706845915837057),\n",
        "  (-6, 0.12707206809066562, 0.40925360826342844),\n",
        "  (-2, 0.460080693937929, 0.4877969616461496),\n",
        "  (2, 0.7177747999155377, 0.5377751064700573),\n",
        "  (6, 0.9003679752575754, 0.6092062762927134),\n",
        "  (10, 1.415768915281153, 0.6369657554529263),\n",
        "  (-67, 0.0, 0.0),\n",
        "  (-63, 0.0, 0.0),\n",
        "  (-59, 0.0, 0.0),\n",
        "  (-55, 0.0, 0.0),\n",
        "  (-51, 0.0, 0.0),\n",
        "  (-47, 0.0, 0.0),\n",
        "  (-43, 0.0, 0.0),\n",
        "  (-39, 4.0054676412585023e-07, 0.013143573072726945),\n",
        "  (-35, 8.196440087913434e-06, 0.06554967678212036),\n",
        "  (-31, 0.0, 0.0),\n",
        "  (-27, 6.269139354303095e-05, 0.051848011529475296),\n",
        "  (-23, 0.0019115196860984445, 0.12066921083258668),\n",
        "  (-19, 0.009497117855175203, 0.27250707879291386),\n",
        "  (-15, 0.01088131008921787, 0.2572573024215635),\n",
        "  (-11, 0.08511799654470278, 0.3744045981984294),\n",
        "  (-7, 0.19229860100063675, 0.42496277047606806),\n",
        "  (-3, 0.2362339088857894, 0.4595305455204477),\n",
        "  (1, 0.6300243843132637, 0.5253045886303044),\n",
        "  (5, 0.9634629467790338, 0.5750908735025038),\n",
        "  (9, 1.2237115693610725, 0.6587156198471723),\n",
        "  (13, 1.8022126390513398, 0.6739007417823123),\n",
        "  (-48, 0.0, 0.0),\n",
        "  (-45, 0.0, 0.0),\n",
        "  (-36, 0.0, 0.0),\n",
        "  (-33, 0.0, 0.0),\n",
        "  (-24, 0.00028988927396937533, 0.10349698491890993),\n",
        "  (-21, 0.0011712871257525785, 0.15494768425124034),\n",
        "  (-12, 0.027402802298909616, 0.30811773480432825),\n",
        "  (-9, 0.06232802542746358, 0.3587829202419505),\n",
        "  (0, 0.3992588510803261, 0.5096144757983534),\n",
        "  (3, 0.6225689395410587, 0.5595061400272037),\n",
        "  (12, 1.5783081393022822, 0.7080349031203547),\n",
        "  (15, 1.9528872380407907, 0.7571648557302956),\n",
        "  (18, 2.3385105272486246, 0.8061062044941291),\n",
        "  (21, 2.730173193408955, 0.8548596734388224),\n",
        "  (24, 3.125144019626828, 0.9034259838118919),\n",
        "  (27, 3.522316531993602, 0.9518058540920934),\n",
        "  (30, 3.92119071912053, 1.0),\n",
        "  (33, 4.321668777812214, 1.0),\n",
        "  (36, 4.723690147396296, 1.0),\n",
        "  (39, 5.127261202063355, 0.988122475267975),\n",
        "  (42, 5.532386623910845, 1.0),\n",
        "  (45, 5.939073702021692, 1.0),\n",
        "  (48, 6.347328018730086, 1.0),\n",
        "  (51, 6.757155613463761, 1.0),\n",
        "  (54, 7.1685625494853555, 1.0),\n",
        "  (-13, 0.11920147515597669, 0.3490281156400782),\n",
        "  (-5, 0.3180213942688611, 0.45014479261551926),\n",
        "  (-1, 0.5008502331481167, 0.5003155367562265),\n",
        "  (7, 1.095482733202459, 0.5998884338456276),\n",
        "  (11, 1.5066342566992825, 0.6492932055672563),\n",
        "  (19, 2.475641496841172, 0.7473458921402615),\n",
        "  (23, 2.9946941582517774, 0.8872579646769881),\n",
        "  (31, 4.054512296753721, 1.0),\n",
        "  (35, 4.5895199388157595, 0.9404598027310016),\n",
        "  (43, 5.667775218237273, 1.0),\n",
        "  (47, 6.211068736712644, 1.0),\n",
        "  (55, 7.306050210819217, 1.0),\n",
        "  (59, 7.857766964990803, 1.0),\n",
        "  (63, 8.412320386454143, 1.0),\n",
        "  (67, 8.969725060331292, 1.0),\n",
        "  (14, 1.86292779965392, 0.686180868331673),\n",
        "  (22, 2.8656493421626053, 0.7838571426993614),\n",
        "  (26, 3.3906883674851604, 0.8323208730799485),\n",
        "  (34, 4.455526916186935, 0.9285058932626448),\n",
        "  (38, 4.992566389622019, 0.9762297127363271),\n",
        "  (46, 6.074984040242255, 1.0),\n",
        "  (50, 6.620371233354308, 1.0),\n",
        "  (58, 7.719572406312633, 1.0),\n",
        "  (62, 8.27341529568128, 1.0),\n",
        "  (66, 8.830105783986491, 1.0),\n",
        "  (70, 9.389658512557551, 1.0)],\n",
        " [(-110, 0, 0),\n",
        "  (-106, 0, 0),\n",
        "  (-102, 0, 0),\n",
        "  (-98, 0, 0),\n",
        "  (-94, 0, 0),\n",
        "  (-90, 0, 0),\n",
        "  (-86, 0, 0),\n",
        "  (-82, 0, 0),\n",
        "  (-78, 0, 0),\n",
        "  (-74, 0, 0),\n",
        "  (-70, 0, 0),\n",
        "  (-66, 0, 0),\n",
        "  (-62, 0, 0),\n",
        "  (-58, 0, 0),\n",
        "  (-54, 0, 0),\n",
        "  (-50, 0, 0),\n",
        "  (-46, 0, 0),\n",
        "  (-42, 0, 0),\n",
        "  (-38, 0, 0),\n",
        "  (-34, 0, 0),\n",
        "  (-30, 0, 0),\n",
        "  (-26, 0, 0),\n",
        "  (-22, 0, 0),\n",
        "  (-18, 0, 0),\n",
        "  (-14, 0, 0),\n",
        "  (-10, 0, 0),\n",
        "  (-6, 0, 0),\n",
        "  (-2, 0, 0),\n",
        "  (2, 0.2567466592704477, 1),\n",
        "  (6, 0.7722192356669524, 1),\n",
        "  (-60, 0, 0),\n",
        "  (-57, 0, 0),\n",
        "  (-51, 0, 0),\n",
        "  (-48, 0, 0),\n",
        "  (-45, 0, 0),\n",
        "  (-39, 0, 0),\n",
        "  (-36, 0, 0),\n",
        "  (-33, 0, 0),\n",
        "  (-27, 0, 0),\n",
        "  (-24, 0, 0),\n",
        "  (-21, 0, 0),\n",
        "  (-15, 0, 0),\n",
        "  (-12, 0, 0),\n",
        "  (-9, 0, 0),\n",
        "  (-3, 0, 0),\n",
        "  (0, 4.263256414560601e-14, 0.5),\n",
        "  (10, 1.290342127237949, 1),\n",
        "  (14, 1.8111289606453482, 1),\n",
        "  (18, 2.3345934326129054, 1),\n",
        "  (3, 0.385367078905972, 1),\n",
        "  (9, 1.1605621932840364, 1),\n",
        "  (12, 1.5504016968131111, 1),\n",
        "  (22, 2.860749310286394, 1),\n",
        "  (26, 3.3896104315957274, 1),\n",
        "  (30, 3.9211907056188835, 1),\n",
        "  (15, 1.941743513449353, 1),\n",
        "  (21, 2.7289572660344277, 1),\n",
        "  (24, 3.1248408478409715, 1),\n",
        "  (34, 4.4555041129477075, 1),\n",
        "  (38, 4.992564706055603, 1),\n",
        "  (42, 5.532386609667142, 1),\n",
        "  (27, 3.5222500346426955, 1),\n",
        "  (33, 4.321668762605398, 1),\n",
        "  (36, 4.723690130181765, 1),\n",
        "  (46, 6.074984021129481, 1),\n",
        "  (50, 6.620371210785848, 1),\n",
        "  (-107, 0, 0),\n",
        "  (-103, 0, 0),\n",
        "  (-99, 0, 0),\n",
        "  (-95, 0, 0),\n",
        "  (-91, 0, 0),\n",
        "  (-87, 0, 0),\n",
        "  (-83, 0, 0),\n",
        "  (-79, 0, 0),\n",
        "  (-75, 0, 0),\n",
        "  (-71, 0, 0),\n",
        "  (-67, 0, 0),\n",
        "  (-63, 0, 0),\n",
        "  (-59, 0, 0),\n",
        "  (-55, 0, 0),\n",
        "  (-47, 0, 0),\n",
        "  (-43, 0, 0),\n",
        "  (-35, 0, 0),\n",
        "  (-31, 0, 0),\n",
        "  (-23, 0, 0),\n",
        "  (-19, 0, 0),\n",
        "  (-11, 0, 0),\n",
        "  (-7, 0, 0),\n",
        "  (1, 0.12829103668472897, 1),\n",
        "  (5, 0.6431031552773163, 1),\n",
        "  (-61, 0, 0),\n",
        "  (-52, 0, 0),\n",
        "  (-49, 0, 0),\n",
        "  (-40, 0, 0),\n",
        "  (-37, 0, 0),\n",
        "  (-28, 0, 0),\n",
        "  (-25, 0, 0),\n",
        "  (-16, 0, 0),\n",
        "  (-13, 0, 0),\n",
        "  (-4, 0, 0),\n",
        "  (-1, 0, 0),\n",
        "  (13, 1.680681759907415, 1),\n",
        "  (-53, 0, 0),\n",
        "  (-44, 0, 0),\n",
        "  (-41, 0, 0),\n",
        "  (-32, 0, 0),\n",
        "  (-29, 0, 0),\n",
        "  (-20, 0, 0),\n",
        "  (-17, 0, 0),\n",
        "  (-8, 0, 0),\n",
        "  (-5, 0, 0),\n",
        "  (4, 0.5141525070112323, 1),\n",
        "  (7, 0.9015009604145519, 1),\n",
        "  (17, 2.2034755343220525, 1),\n",
        "  (25, 3.2571407752441957, 1),\n",
        "  (29, 3.788039953208198, 1),\n",
        "  (37, 4.8580412379042315, 1),\n",
        "  (41, 5.3971714857317465, 1),\n",
        "  (45, 5.939073685244523, 1),\n",
        "  (39, 5.127260755758854, 1),\n",
        "  (49, 6.483762088501649, 1),\n",
        "  (53, 7.031251020839505, 1),\n",
        "  (-88, 0, 0),\n",
        "  (-84, 0, 0),\n",
        "  (-80, 0, 0),\n",
        "  (-76, 0, 0),\n",
        "  (-72, 0, 0),\n",
        "  (-68, 0, 0),\n",
        "  (-64, 0, 0),\n",
        "  (-56, 0, 0),\n",
        "  (-85, 0, 0),\n",
        "  (-81, 0, 0),\n",
        "  (-77, 0, 0),\n",
        "  (-73, 0, 0),\n",
        "  (-69, 0, 0),\n",
        "  (-65, 0, 0),\n",
        "  (8, 1.0309485420270903, 1),\n",
        "  (16, 2.0725256330172073, 1),\n",
        "  (11, 1.4202885572144481, 1),\n",
        "  (19, 2.4658795434146725, 1),\n",
        "  (20, 2.5973340825290023, 1),\n",
        "  (28, 3.655059802411458, 1),\n",
        "  (23, 2.992710431918212, 1),\n",
        "  (31, 4.054512278510202, 1),\n",
        "  (32, 4.188004891029493, 1),\n",
        "  (40, 5.262129608420722, 1),\n",
        "  (35, 4.589511162048424, 1),\n",
        "  (43, 5.66777520248678, 1),\n",
        "  (44, 5.803337486735785, 1),\n",
        "  (48, 6.347327998925351, 1),\n",
        "  (52, 6.8941154519712455, 1),\n",
        "  (47, 6.21106871779331, 1),\n",
        "  (51, 6.7571555903292335, 1),\n",
        "  (55, 7.306050182210839, 1),\n",
        "  (54, 7.16856252235074, 1),\n",
        "  (58, 7.719572373287264, 1),\n",
        "  (57, 7.581554881248593, 1),\n",
        "  (61, 8.134688142752154, 1),\n",
        "  (56, 7.443714226414997, 1),\n",
        "  (60, 7.996138776736046, 1),\n",
        "  (64, 8.551403631731915, 1),\n",
        "  (59, 7.857766929397357, 1),\n",
        "  (63, 8.412320342071155, 1),\n",
        "  (67, 8.969725005018915, 1),\n",
        "  (62, 8.27341525518625, 1),\n",
        "  (66, 8.830105734147438, 1),\n",
        "  (70, 9.389658451162475, 1),\n",
        "  (65, 8.690665352786851, 1),\n",
        "  (69, 9.249501133585355, 1),\n",
        "  (73, 9.811210182560899, 1),\n",
        "  (68, 9.109523394900307, 1),\n",
        "  (72, 9.670512744823156, 1),\n",
        "  (76, 10.234386435552693, 1),\n",
        "  (71, 9.529995578015416, 1),\n",
        "  (75, 10.093146796209027, 1),\n",
        "  (79, 10.659193470509251, 1),\n",
        "  (74, 9.952088122500214, 1),\n",
        "  (78, 10.517409540093198, 1),\n",
        "  (82, 11.085637571927421, 1),\n",
        "  (77, 10.375807272693862, 1),\n",
        "  (81, 10.943307252920263, 1),\n",
        "  (85, 11.513725048522275, 1),\n",
        "  (80, 10.801159296999487, 1),\n",
        "  (84, 11.370846235322475, 1),\n",
        "  (88, 11.943462233320957, 1),\n",
        "  (83, 11.228150487976237, 1),\n",
        "  (87, 11.80003281221235, 1),\n",
        "  (91, 12.374855483755681, 1),\n",
        "  (86, 11.656787162432849, 1),\n",
        "  (90, 12.23087333287664, 1),\n",
        "  (94, 12.807911181758186, 1),\n",
        "  (95, 12.95263362047561, 1),\n",
        "  (99, 13.533382417970444, 1),\n",
        "  (103, 14.117117149967044, 1),\n",
        "  (107, 14.703853168722503, 1),\n",
        "  (98, 13.387915885206155, 1),\n",
        "  (102, 13.970902697377682, 1),\n",
        "  (106, 14.556886950859536, 1),\n",
        "  (110, 15.145884057071356, 1)]]"
      ],
      "metadata": {
        "id": "OYDSrAs3qQMA"
      },
      "execution_count": 99,
      "outputs": []
    },
    {
      "cell_type": "code",
      "source": [
        "layer_num = len(path)\n",
        "sample_size = 1000000\n",
        "#np.random.seed(1)\n",
        "EPS = np.random.standard_normal((sample_size,layer_num-1))\n",
        "f = path[0][0][1]"
      ],
      "metadata": {
        "id": "IQtRrW5qkWB1"
      },
      "execution_count": 100,
      "outputs": []
    },
    {
      "cell_type": "code",
      "source": [
        "f"
      ],
      "metadata": {
        "colab": {
          "base_uri": "https://localhost:8080/"
        },
        "id": "0kTQV3nwgcAw",
        "outputId": "924405b8-e808-4915-e925-d7ad3429b7ff"
      },
      "execution_count": 101,
      "outputs": [
        {
          "output_type": "execute_result",
          "data": {
            "text/plain": [
              "0.7177283775214488"
            ]
          },
          "metadata": {},
          "execution_count": 101
        }
      ]
    },
    {
      "cell_type": "code",
      "source": [
        "#yt1 = yt0 + r - ht**2/2 + ht*epsilon\n",
        "#Monte Carlo\n",
        "y0 = np.log(s)\n",
        "YT = np.zeros((sample_size,layer_num))\n",
        "YT[:,0] = y0\n",
        "h = h0\n",
        "H = np.zeros((sample_size,layer_num))\n",
        "H[:,0] = h\n",
        "PRICE_PATH = np.zeros((sample_size,layer_num))\n",
        "PRICE_PATH[:,0] = s\n",
        "for t in range(layer_num-1):\n",
        "  YT[:,t+1] = YT[:,t]-H[:,t]**2/2 + H[:,t]*EPS[:,t]\n",
        "  H[:,t+1] = np.sqrt(beta[0] + beta[1]*H[:,t]**2 + beta[2]*H[:,t]**2*EPS[:,t]**2)\n",
        "  PRICE_PATH[:,t+1] = np.exp(YT[:,t+1])\n",
        "PRICE_PATH"
      ],
      "metadata": {
        "id": "vf9foCqbkc6p",
        "colab": {
          "base_uri": "https://localhost:8080/"
        },
        "outputId": "d43ca828-6ef5-4c8a-e55a-8faa37454051"
      },
      "execution_count": 102,
      "outputs": [
        {
          "output_type": "execute_result",
          "data": {
            "text/plain": [
              "array([[100.        ,  99.5279881 ,  99.73243319, 100.34659263],\n",
              "       [100.        , 100.77734539, 100.73399486,  99.87952659],\n",
              "       [100.        , 102.02886972, 101.34364571, 103.3397073 ],\n",
              "       ...,\n",
              "       [100.        ,  98.80693776,  98.47761018,  98.60238502],\n",
              "       [100.        ,  99.92690416,  99.02288207,  99.87561334],\n",
              "       [100.        , 100.45685961, 102.44879448, 104.3054741 ]])"
            ]
          },
          "metadata": {},
          "execution_count": 102
        }
      ]
    },
    {
      "cell_type": "code",
      "source": [
        "np.exp(np.log(s)+np.arange(-110,111)*gamma_n*np.sqrt(5)/np.sqrt(2))"
      ],
      "metadata": {
        "colab": {
          "base_uri": "https://localhost:8080/"
        },
        "id": "1iTEa3C4TjD6",
        "outputId": "1b053574-1389-43df-fa38-c6ac66d74930"
      },
      "execution_count": 103,
      "outputs": [
        {
          "output_type": "execute_result",
          "data": {
            "text/plain": [
              "array([ 80.01248286,  80.17484543,  80.33753746,  80.50055963,\n",
              "        80.66391261,  80.82759706,  80.99161367,  81.1559631 ,\n",
              "        81.32064603,  81.48566314,  81.65101511,  81.8167026 ,\n",
              "        81.98272632,  82.14908693,  82.31578512,  82.48282159,\n",
              "        82.650197  ,  82.81791205,  82.98596744,  83.15436384,\n",
              "        83.32310196,  83.49218248,  83.66160611,  83.83137353,\n",
              "        84.00148544,  84.17194255,  84.34274556,  84.51389516,\n",
              "        84.68539205,  84.85723696,  85.02943057,  85.2019736 ,\n",
              "        85.37486676,  85.54811076,  85.7217063 ,  85.89565411,\n",
              "        86.0699549 ,  86.24460938,  86.41961827,  86.59498229,\n",
              "        86.77070216,  86.94677861,  87.12321235,  87.30000412,\n",
              "        87.47715463,  87.65466463,  87.83253482,  88.01076596,\n",
              "        88.18935876,  88.36831397,  88.54763231,  88.72731453,\n",
              "        88.90736137,  89.08777356,  89.26855184,  89.44969696,\n",
              "        89.63120967,  89.8130907 ,  89.99534081,  90.17796074,\n",
              "        90.36095125,  90.54431308,  90.728047  ,  90.91215375,\n",
              "        91.0966341 ,  91.28148879,  91.4667186 ,  91.65232427,\n",
              "        91.83830658,  92.02466629,  92.21140416,  92.39852096,\n",
              "        92.58601747,  92.77389444,  92.96215266,  93.15079289,\n",
              "        93.33981592,  93.52922251,  93.71901345,  93.90918952,\n",
              "        94.09975149,  94.29070016,  94.4820363 ,  94.67376071,\n",
              "        94.86587416,  95.05837746,  95.25127138,  95.44455673,\n",
              "        95.6382343 ,  95.83230488,  96.02676927,  96.22162827,\n",
              "        96.41688268,  96.61253331,  96.80858095,  97.00502641,\n",
              "        97.20187051,  97.39911404,  97.59675783,  97.79480267,\n",
              "        97.99324939,  98.19209881,  98.39135173,  98.59100898,\n",
              "        98.79107137,  98.99153974,  99.1924149 ,  99.39369767,\n",
              "        99.5953889 ,  99.7974894 , 100.        , 100.20292154,\n",
              "       100.40625486, 100.61000078, 100.81416014, 101.01873379,\n",
              "       101.22372256, 101.4291273 , 101.63494885, 101.84118805,\n",
              "       102.04784576, 102.25492283, 102.46242009, 102.67033841,\n",
              "       102.87867865, 103.08744165, 103.29662828, 103.50623939,\n",
              "       103.71627584, 103.92673851, 104.13762825, 104.34894593,\n",
              "       104.56069242, 104.77286859, 104.98547531, 105.19851346,\n",
              "       105.4119839 , 105.62588752, 105.8402252 , 106.05499782,\n",
              "       106.27020626, 106.4858514 , 106.70193413, 106.91845534,\n",
              "       107.13541592, 107.35281676, 107.57065875, 107.78894279,\n",
              "       108.00766977, 108.2268406 , 108.44645617, 108.66651739,\n",
              "       108.88702517, 109.1079804 , 109.32938399, 109.55123687,\n",
              "       109.77353992, 109.99629408, 110.21950026, 110.44315937,\n",
              "       110.66727233, 110.89184007, 111.1168635 , 111.34234355,\n",
              "       111.56828115, 111.79467723, 112.02153271, 112.24884853,\n",
              "       112.47662563, 112.70486493, 112.93356738, 113.16273392,\n",
              "       113.39236548, 113.62246302, 113.85302747, 114.08405979,\n",
              "       114.31556092, 114.54753182, 114.77997344, 115.01288673,\n",
              "       115.24627265, 115.48013217, 115.71446623, 115.94927581,\n",
              "       116.18456187, 116.42032538, 116.65656729, 116.8932886 ,\n",
              "       117.13049026, 117.36817326, 117.60633857, 117.84498716,\n",
              "       118.08412003, 118.32373814, 118.5638425 , 118.80443408,\n",
              "       119.04551387, 119.28708286, 119.52914205, 119.77169242,\n",
              "       120.01473499, 120.25827074, 120.50230068, 120.7468258 ,\n",
              "       120.99184712, 121.23736565, 121.48338238, 121.72989833,\n",
              "       121.97691452, 122.22443195, 122.47245165, 122.72097464,\n",
              "       122.97000194, 123.21953456, 123.46957354, 123.7201199 ,\n",
              "       123.97117468, 124.2227389 , 124.47481359, 124.7273998 ,\n",
              "       124.98049857])"
            ]
          },
          "metadata": {},
          "execution_count": 103
        }
      ]
    },
    {
      "cell_type": "code",
      "source": [
        "NODE_PATH = np.zeros((sample_size,layer_num),dtype=int)\n",
        "DELTA = np.zeros((sample_size,layer_num))\n",
        "for t in range(layer_num):\n",
        "  temp = list(zip(*path[t]))\n",
        "  node_idx = np.array(temp[0])\n",
        "  NODE_PART = np.tile(np.exp(np.log(s)+node_idx*gamma_n),(sample_size,1))\n",
        "  REAL_PART = np.tile(PRICE_PATH[:,t].reshape((sample_size,1)),(1,node_idx.shape[0]))\n",
        "  odr = np.argmin(np.abs(REAL_PART - NODE_PART),axis= 1)\n",
        "  NODE_PATH[:,t] = node_idx[odr]\n",
        "  delta_idx = np.array(temp[2])\n",
        "  DELTA[:,t] = delta_idx[odr]\n",
        "#no_ex_at_0 = (NODE_PATH[:,-1]==0)&(PRICE_PATH[:,-1]-100<0)\n",
        "#DELTA[no_ex_at_0,-1] = 0\n",
        "NODE_PATH,DELTA"
      ],
      "metadata": {
        "id": "nfmoSzG2kc4H",
        "colab": {
          "base_uri": "https://localhost:8080/"
        },
        "outputId": "965f5877-7710-4154-aab8-5f2b950db363"
      },
      "execution_count": 104,
      "outputs": [
        {
          "output_type": "execute_result",
          "data": {
            "text/plain": [
              "(array([[  0,  -3,  -2,   3],\n",
              "        [  0,   6,   6,  -1],\n",
              "        [  0,  15,  10,  26],\n",
              "        ...,\n",
              "        [  0,  -9, -12, -11],\n",
              "        [  0,   0,  -7,  -1],\n",
              "        [  0,   3,  19,  33]]),\n",
              " array([[0.50967789, 0.45963583, 0.48779696, 1.        ],\n",
              "        [0.50967789, 0.60893022, 0.60920628, 0.        ],\n",
              "        [0.50967789, 0.75191675, 0.63696576, 1.        ],\n",
              "        ...,\n",
              "        [0.50967789, 0.35974774, 0.30811773, 0.        ],\n",
              "        [0.50967789, 0.50961598, 0.42496277, 0.        ],\n",
              "        [0.50967789, 0.55940672, 0.74734589, 1.        ]]))"
            ]
          },
          "metadata": {},
          "execution_count": 104
        }
      ]
    },
    {
      "cell_type": "code",
      "source": [
        "#hedge\n",
        "S = 100\n",
        "N = 1000000\n",
        "NODE_INDEX = NODE_PATH.copy()\n",
        "S = PRICE_PATH#np.exp(y)\n",
        "CHANGE_DELTA = DELTA.copy()\n",
        "CHANGE_DELTA[:, 1:] = DELTA[:, 1:]-DELTA[:, :-1]\n",
        "SHARES_BOUGHT = N*CHANGE_DELTA\n",
        "COST_SHARES = S*SHARES_BOUGHT\n",
        "CUMULATIVE_COST = np.cumsum(COST_SHARES, axis=1)\n",
        "result = N*f - CUMULATIVE_COST[:, -1] + N*S[:,0]\n",
        "no_ex = PRICE_PATH[:,-1]-100<0\n",
        "result[no_ex] = N*f - CUMULATIVE_COST[no_ex, -1]\n",
        "zero_ex = NODE_PATH[:,-1]==0\n",
        "result[no_ex&zero_ex] = N*f - CUMULATIVE_COST[no_ex&zero_ex, -1] + N*S[no_ex&zero_ex,-1]/2\n",
        "result[(~no_ex)&zero_ex] = N*f - CUMULATIVE_COST[(~no_ex)&zero_ex, -1] - N*S[(~no_ex)&zero_ex,-1]/2 + N*S[(~no_ex)&zero_ex,0]"
      ],
      "metadata": {
        "id": "43i8bctakweP"
      },
      "execution_count": 105,
      "outputs": []
    },
    {
      "cell_type": "code",
      "source": [
        "result.mean()/N,result.var()**0.5/N"
      ],
      "metadata": {
        "colab": {
          "base_uri": "https://localhost:8080/"
        },
        "id": "CMN1CKsCkzBK",
        "outputId": "d2e8a2a8-c295-4530-dc61-1ba6736dc648"
      },
      "execution_count": 106,
      "outputs": [
        {
          "output_type": "execute_result",
          "data": {
            "text/plain": [
              "(-0.0006959608407577468, 0.40520368485586805)"
            ]
          },
          "metadata": {},
          "execution_count": 106
        }
      ]
    },
    {
      "cell_type": "code",
      "source": [
        "plt.hist(result,np.arange(-48,28)*1e5/2)[2]"
      ],
      "metadata": {
        "colab": {
          "base_uri": "https://localhost:8080/",
          "height": 295
        },
        "id": "2Ull3wJ1k18J",
        "outputId": "3ba5b360-e5bb-47ef-ad7d-027c9dd033b3"
      },
      "execution_count": 107,
      "outputs": [
        {
          "output_type": "execute_result",
          "data": {
            "text/plain": [
              "<a list of 75 Patch objects>"
            ]
          },
          "metadata": {},
          "execution_count": 107
        },
        {
          "output_type": "display_data",
          "data": {
            "text/plain": [
              "<Figure size 432x288 with 1 Axes>"
            ],
            "image/png": "[encoded data removed]"
          },
          "metadata": {
            "needs_background": "light"
          }
        }
      ]
    },
    {
      "cell_type": "code",
      "source": [
        "check = NODE_PATH[:,-1].astype(int)==0\n",
        "check2 = PRICE_PATH[:,-1]>=100"
      ],
      "metadata": {
        "id": "LD7BMFg6m_eq"
      },
      "execution_count": 108,
      "outputs": []
    },
    {
      "cell_type": "code",
      "source": [
        "plt.hist(result[~check],np.arange(-48,28)*1e5/2)[2]"
      ],
      "metadata": {
        "colab": {
          "base_uri": "https://localhost:8080/",
          "height": 295
        },
        "id": "E-vAwvqGmSHs",
        "outputId": "0422d212-22a0-43ba-9268-ba09035a5c59"
      },
      "execution_count": 109,
      "outputs": [
        {
          "output_type": "execute_result",
          "data": {
            "text/plain": [
              "<a list of 75 Patch objects>"
            ]
          },
          "metadata": {},
          "execution_count": 109
        },
        {
          "output_type": "display_data",
          "data": {
            "text/plain": [
              "<Figure size 432x288 with 1 Axes>"
            ],
            "image/png": "[encoded data removed]"
          },
          "metadata": {
            "needs_background": "light"
          }
        }
      ]
    },
    {
      "cell_type": "code",
      "source": [
        "plt.hist(result[check],np.arange(-48,28)*1e5/2)[2]"
      ],
      "metadata": {
        "colab": {
          "base_uri": "https://localhost:8080/",
          "height": 295
        },
        "id": "S0WMISAtnBxQ",
        "outputId": "f23cca0e-8eb1-47bb-8f1b-604f1a30a77f"
      },
      "execution_count": 110,
      "outputs": [
        {
          "output_type": "execute_result",
          "data": {
            "text/plain": [
              "<a list of 75 Patch objects>"
            ]
          },
          "metadata": {},
          "execution_count": 110
        },
        {
          "output_type": "display_data",
          "data": {
            "text/plain": [
              "<Figure size 432x288 with 1 Axes>"
            ],
            "image/png": "[encoded data removed]"
          },
          "metadata": {
            "needs_background": "light"
          }
        }
      ]
    },
    {
      "cell_type": "code",
      "source": [
        "plt.hist(result[check&check2],np.arange(-48,28)*1e5/2)[2]"
      ],
      "metadata": {
        "colab": {
          "base_uri": "https://localhost:8080/",
          "height": 295
        },
        "id": "lr7V1PGmpVhh",
        "outputId": "f2c373f4-597c-4a2b-c7ef-65c9f78a4be0"
      },
      "execution_count": 111,
      "outputs": [
        {
          "output_type": "execute_result",
          "data": {
            "text/plain": [
              "<a list of 75 Patch objects>"
            ]
          },
          "metadata": {},
          "execution_count": 111
        },
        {
          "output_type": "display_data",
          "data": {
            "text/plain": [
              "<Figure size 432x288 with 1 Axes>"
            ],
            "image/png": "[encoded data removed]"
          },
          "metadata": {
            "needs_background": "light"
          }
        }
      ]
    },
    {
      "cell_type": "code",
      "source": [
        "plt.hist(result[check&(~check2)],np.arange(-48,28)*1e5/2)[2]"
      ],
      "metadata": {
        "colab": {
          "base_uri": "https://localhost:8080/",
          "height": 295
        },
        "id": "L64_44Z8pg7H",
        "outputId": "6cf48eb5-a7d2-44d0-f8f9-53b209dd6b86"
      },
      "execution_count": 112,
      "outputs": [
        {
          "output_type": "execute_result",
          "data": {
            "text/plain": [
              "<a list of 75 Patch objects>"
            ]
          },
          "metadata": {},
          "execution_count": 112
        },
        {
          "output_type": "display_data",
          "data": {
            "text/plain": [
              "<Figure size 432x288 with 1 Axes>"
            ],
            "image/png": "[encoded data removed]"
          },
          "metadata": {
            "needs_background": "light"
          }
        }
      ]
    },
    {
      "cell_type": "code",
      "source": [
        ""
      ],
      "metadata": {
        "id": "DC60IkhvW0IL"
      },
      "execution_count": 112,
      "outputs": []
    }
  ]
}