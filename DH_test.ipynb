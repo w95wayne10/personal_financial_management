{
  "nbformat": 4,
  "nbformat_minor": 0,
  "metadata": {
    "colab": {
      "name": "DH_test.ipynb",
      "provenance": [],
      "collapsed_sections": [],
      "authorship_tag": "ABX9TyMjbcErI3J3zWKNMVYYcpeB",
      "include_colab_link": true
    },
    "kernelspec": {
      "name": "python3",
      "display_name": "Python 3"
    },
    "language_info": {
      "name": "python"
    }
  },
  "cells": [
    {
      "cell_type": "markdown",
      "metadata": {
        "id": "view-in-github",
        "colab_type": "text"
      },
      "source": [
        "<a href=\"https://colab.research.google.com/github/w95wayne10/personal_financial_management/blob/master/DH_test.ipynb\" target=\"_parent\"><img src=\"https://colab.research.google.com/assets/colab-badge.svg\" alt=\"Open In Colab\"/></a>"
      ]
    },
    {
      "cell_type": "markdown",
      "source": [
        "A hedger is short 10,000 European calls.  \n",
        "As an option covers 100 shares of stock, N = 1,000,000.  \n"
      ],
      "metadata": {
        "id": "8lZ0eiyn7x2i"
      }
    },
    {
      "cell_type": "markdown",
      "source": [
        "0 3 6 3"
      ],
      "metadata": {
        "id": "HqleLnno55yf"
      }
    },
    {
      "cell_type": "code",
      "source": [
        "import numpy as np"
      ],
      "metadata": {
        "id": "rIldRg6lEB30"
      },
      "execution_count": null,
      "outputs": []
    },
    {
      "cell_type": "code",
      "source": [
        "# 2: 0: 0.41631 and 0.46255\n",
        "path = [ \n",
        " {0:(0.7225, 0.50397)},\n",
        " {-3:(0.1726,0.19247),0:(0.55274,0.50304),3:(1.39859,0.81218)},\n",
        " {-6:(0.0,0.0), -3:(0.0, 0.0), 0:(0.41631, 0.50304), 3:(1.22372, 1.0), 6:(2.46242, 1.0)},\n",
        " {-9:(0, 1.0), -6:(0,1.0), -3:(0, 1.0), 0:(0.0, 1.0), 3:(1.22372, 1.0), 6:(2.46242, 1.0), 9:(3.71628, 1.0)}\n",
        "]"
      ],
      "metadata": {
        "id": "OYDSrAs3qQMA"
      },
      "execution_count": null,
      "outputs": []
    },
    {
      "cell_type": "code",
      "source": [
        "#yt1 = yt0 + r - ht**2/2 + ht*epsilon\n",
        "#Monte Carlo\n",
        "S = 100\n",
        "y0 = np.log(S)\n",
        "yt = y0\n",
        "h=np.sqrt(10.96/1e5)\n",
        "#np.random.seed(1)\n",
        "#print(np.exp(yt), h**2*1e5)\n",
        "price_path = []\n",
        "price_path.append(S)\n",
        "for t in range(3):\n",
        "  eps = np.random.standard_normal(1)[0]\n",
        "  yt = yt - h**2/2 + h*eps\n",
        "  h = np.sqrt(0.000006575 + 0.9*h**2 + 0.04*h**2*eps**2)\n",
        "  price_path.append(np.exp(yt))\n",
        "  #print(np.exp(yt), h**2*1e5, eps)\n",
        "node_path = []\n",
        "for idx, p in enumerate(price_path):\n",
        "  a = idx*2+1\n",
        "  b = a//2\n",
        "  node_path.append(int((np.argmin(np.abs(p - np.exp(np.log(100)+(np.arange(a)-b)*3*np.sqrt(0.00006575)/2)))-b)*3))\n",
        "node_path = np.array(node_path)\n",
        "price_path = np.array(price_path)\n",
        "node_path, price_path"
      ],
      "metadata": {
        "colab": {
          "base_uri": "https://localhost:8080/"
        },
        "id": "4vx6yKJbuUlv",
        "outputId": "c57a06cb-eae5-42c6-d4cb-6dbccc6c7779"
      },
      "execution_count": null,
      "outputs": [
        {
          "output_type": "execute_result",
          "data": {
            "text/plain": [
              "(array([ 0,  0, -3,  0]),\n",
              " array([100.        ,  99.65756901,  99.25965841, 100.39932985]))"
            ]
          },
          "metadata": {},
          "execution_count": 23
        }
      ]
    },
    {
      "cell_type": "code",
      "source": [
        "#hedge\n",
        "S = 100\n",
        "N = 1000000\n",
        "node_index = node_path.copy()\n",
        "y = np.log(S)+node_index*np.sqrt(0.00006575)/2\n",
        "S = np.exp(y)\n",
        "temp = []\n",
        "for idx, node in enumerate(node_index):\n",
        "  temp.append(path[idx][node])\n",
        "f,delta = list(zip(*temp))\n",
        "f = np.array(f)\n",
        "delta = np.array(delta)\n",
        "change_delta = delta.copy()\n",
        "change_delta[1:] = delta[1:]-delta[:-1]\n",
        "shares_bought = N*change_delta\n",
        "cost_shares = S*shares_bought\n",
        "cumulative_cost = np.cumsum(cost_shares)\n",
        "cumulative_cost[-1] - N*S[0]"
      ],
      "metadata": {
        "colab": {
          "base_uri": "https://localhost:8080/"
        },
        "id": "NswA-ikgvS6N",
        "outputId": "ee02e9e5-395a-4c8c-a513-836f0b9e54f9"
      },
      "execution_count": null,
      "outputs": [
        {
          "output_type": "execute_result",
          "data": {
            "text/plain": [
              "608139.4574503154"
            ]
          },
          "metadata": {},
          "execution_count": 24
        }
      ]
    },
    {
      "cell_type": "code",
      "source": [
        "#hedge\n",
        "S = 100\n",
        "N = 1000000\n",
        "node_index = node_path.copy()\n",
        "y = np.log(S)+node_index*np.sqrt(0.00006575)/2\n",
        "S = price_path#np.exp(y)\n",
        "temp = []\n",
        "for idx, node in enumerate(node_index):\n",
        "  temp.append(path[idx][node])\n",
        "f,delta = list(zip(*temp))\n",
        "f = np.array(f)\n",
        "delta = np.array(delta)\n",
        "change_delta = delta.copy()\n",
        "change_delta[1:] = delta[1:]-delta[:-1]\n",
        "shares_bought = N*change_delta\n",
        "cost_shares = S*shares_bought\n",
        "cumulative_cost = np.cumsum(cost_shares)\n",
        "cumulative_cost[-1] - N*S[0]"
      ],
      "metadata": {
        "colab": {
          "base_uri": "https://localhost:8080/"
        },
        "id": "TV-AF6RYkhXb",
        "outputId": "505e569e-6808-46c4-92dd-c821dd49b157"
      },
      "execution_count": null,
      "outputs": [
        {
          "output_type": "execute_result",
          "data": {
            "text/plain": [
              "772069.7404237986"
            ]
          },
          "metadata": {},
          "execution_count": 25
        }
      ]
    },
    {
      "cell_type": "markdown",
      "source": [
        "數量加大"
      ],
      "metadata": {
        "id": "fzU6jDbn17b_"
      }
    },
    {
      "cell_type": "code",
      "source": [
        "EPS = np.random.standard_normal((10,3))\n",
        "EPS"
      ],
      "metadata": {
        "colab": {
          "base_uri": "https://localhost:8080/"
        },
        "id": "Rd3Q3uvw21ix",
        "outputId": "abb525ec-2dca-4f0e-8bdf-5697b63f3b66"
      },
      "execution_count": null,
      "outputs": [
        {
          "output_type": "execute_result",
          "data": {
            "text/plain": [
              "array([[ 7.10436214e-01, -6.52583367e-01, -5.28164008e-01],\n",
              "       [ 4.79986684e-02,  1.07499649e+00,  1.34140946e-02],\n",
              "       [-5.89920712e-02, -1.27832653e+00,  5.99349652e-01],\n",
              "       [-7.62483507e-01, -3.82454287e-01,  1.49873996e+00],\n",
              "       [-1.00025489e-01, -1.19615318e+00, -5.92025021e-01],\n",
              "       [ 2.11132642e-01, -6.11224176e-01,  2.74926756e+00],\n",
              "       [ 7.92250316e-01, -1.21248355e+00, -2.73068305e-01],\n",
              "       [ 4.06361085e-01,  2.95294368e+00, -1.11607832e-01],\n",
              "       [-6.88656672e-01,  6.38653960e-01, -6.21110976e-01],\n",
              "       [ 4.85118759e-01, -1.50563993e-03,  5.57120365e-01]])"
            ]
          },
          "metadata": {},
          "execution_count": 3
        }
      ]
    },
    {
      "cell_type": "code",
      "source": [
        "#yt1 = yt0 + r - ht**2/2 + ht*epsilon\n",
        "#Monte Carlo\n",
        "S = 100\n",
        "y0 = np.log(S)\n",
        "YT = np.zeros((10,4))\n",
        "YT[:,0] = y0\n",
        "h = np.sqrt(10.96/1e5)\n",
        "H = np.zeros((10,4))\n",
        "H[:,0] = h\n",
        "np.random.seed(1)\n",
        "#print(np.exp(yt), h**2*1e5)\n",
        "PRICE_PATH = np.zeros((10,4))\n",
        "PRICE_PATH[:,0] = S"
      ],
      "metadata": {
        "id": "s7iGo6JV3cWo"
      },
      "execution_count": null,
      "outputs": []
    },
    {
      "cell_type": "code",
      "source": [
        "for t in range(3):\n",
        "  YT[:,t+1] = YT[:,t]-H[:,t]**2/2 + H[:,t]*EPS[:,t]\n",
        "  H[:,t+1] = np.sqrt(0.000006575 + 0.9*H[:,t]**2 + 0.04*H[:,t]**2*EPS[:,t]**2)\n",
        "print(np.exp(YT), H**2*1e5, EPS,sep='\\n')"
      ],
      "metadata": {
        "colab": {
          "base_uri": "https://localhost:8080/"
        },
        "id": "v4LXQBML45zm",
        "outputId": "e695ed38-0ad8-452b-8454-4dce407dcf18"
      },
      "execution_count": null,
      "outputs": [
        {
          "output_type": "stream",
          "name": "stdout",
          "text": [
            "[[100.         100.74100778 100.05653516  99.51102536]\n",
            " [100.         100.04477984 101.14878067 101.15739163]\n",
            " [100.          99.93278379  98.62570023  99.23701223]\n",
            " [100.          99.1994971   98.8011091  100.31900024]\n",
            " [100.          99.88986399  98.66631162  98.05773631]\n",
            " [100.         100.21578729  99.5836123  102.39632068]\n",
            " [100.         100.82733062  99.5596457   99.26933232]\n",
            " [100.         100.42082248 103.5143518  103.37111863]\n",
            " [100.          99.27619736  99.92976126  99.29090158]\n",
            " [100.         100.50365502 100.49675639 101.05919421]]\n",
            "[[10.96       10.74276908 10.50899097 10.23285423]\n",
            " [10.96       10.52251002 10.61415887 10.21031937]\n",
            " [10.96       10.52302566 10.81605803 10.547366  ]\n",
            " [10.96       10.77637747 10.41929071 10.97102301]\n",
            " [10.96       10.52588624 10.73320774 10.4678638 ]\n",
            " [10.96       10.54104255 10.30196153 13.04394893]\n",
            " [10.96       10.79666639 11.00939399 10.59879178]\n",
            " [10.96       10.5938927  13.88710082 13.16281002]\n",
            " [10.96       10.72941033 10.48902129 10.25947686]\n",
            " [10.96       10.62467315 10.2197068   9.98211709]]\n",
            "[[ 7.10436214e-01 -6.52583367e-01 -5.28164008e-01]\n",
            " [ 4.79986684e-02  1.07499649e+00  1.34140946e-02]\n",
            " [-5.89920712e-02 -1.27832653e+00  5.99349652e-01]\n",
            " [-7.62483507e-01 -3.82454287e-01  1.49873996e+00]\n",
            " [-1.00025489e-01 -1.19615318e+00 -5.92025021e-01]\n",
            " [ 2.11132642e-01 -6.11224176e-01  2.74926756e+00]\n",
            " [ 7.92250316e-01 -1.21248355e+00 -2.73068305e-01]\n",
            " [ 4.06361085e-01  2.95294368e+00 -1.11607832e-01]\n",
            " [-6.88656672e-01  6.38653960e-01 -6.21110976e-01]\n",
            " [ 4.85118759e-01 -1.50563993e-03  5.57120365e-01]]\n"
          ]
        }
      ]
    },
    {
      "cell_type": "code",
      "source": [
        "#未完成\n",
        "node_path = []\n",
        "for idx, p in enumerate(price_path):\n",
        "  a = idx*2+1\n",
        "  b = a//2\n",
        "  node_path.append(int((np.argmin(np.abs(p - np.exp(np.log(100)+(np.arange(a)-b)*3*np.sqrt(0.00006575)/2)))-b)*3))\n",
        "node_path = np.array(node_path)\n",
        "price_path = np.array(price_path)\n",
        "node_path, price_path"
      ],
      "metadata": {
        "id": "44SpT-r_lF9q"
      },
      "execution_count": null,
      "outputs": []
    }
  ]
}