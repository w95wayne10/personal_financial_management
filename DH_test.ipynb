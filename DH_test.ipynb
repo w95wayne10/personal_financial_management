{
  "nbformat": 4,
  "nbformat_minor": 0,
  "metadata": {
    "colab": {
      "name": "DH_test.ipynb",
      "provenance": [],
      "authorship_tag": "ABX9TyPXqT2egnAnLqQ/QCWgIuJC",
      "include_colab_link": true
    },
    "kernelspec": {
      "name": "python3",
      "display_name": "Python 3"
    },
    "language_info": {
      "name": "python"
    }
  },
  "cells": [
    {
      "cell_type": "markdown",
      "metadata": {
        "id": "view-in-github",
        "colab_type": "text"
      },
      "source": [
        "<a href=\"https://colab.research.google.com/github/w95wayne10/personal_financial_management/blob/master/DH_test.ipynb\" target=\"_parent\"><img src=\"https://colab.research.google.com/assets/colab-badge.svg\" alt=\"Open In Colab\"/></a>"
      ]
    },
    {
      "cell_type": "markdown",
      "source": [
        "0:  \n",
        "0:  \n",
        "[ index:(0, 0), \n",
        "$h^2$*1e5 = 10.96, \n",
        "$\\mu$*1e5 = -5.48, \n",
        "$\\eta$ = 3, \n",
        "$p_u$ = 0.3682, \n",
        "$p_m$ = 0.2591, \n",
        "$p_d$ = 0.3727, \n",
        "price = 0.7225, \n",
        "$\\Delta$ = 0.50397 ,  \n",
        "index:(0, 0), \n",
        "$h^2$*1e5 = 10.96, \n",
        "$\\mu$*1e5 = -5.48, \n",
        "$\\eta$ = 3, \n",
        "$p_u$ = 0.3682, \n",
        "$p_m$ = 0.2591, \n",
        "$p_d$ = 0.3727, \n",
        "price=0.7225, \n",
        "$\\Delta$ = 0.50397 ]  \n",
        "\n",
        "1:  \n",
        "-3:  \n",
        "[ index:(1, -3), \n",
        "$h^2$*1e5 = 11.1079, \n",
        "$\\mu$*1e5 = -5.554, \n",
        "$\\eta$ = 3, \n",
        "$p_u$ = 0.3732, \n",
        "$p_m$ = 0.2491, \n",
        "$p_d$ = 0.3777, \n",
        "price=0.1726, \n",
        "$\\Delta$ = 0.19247 ,  \n",
        "index:(1, -3), \n",
        "$h^2$*1e5 = 11.1079, \n",
        "$\\mu$*1e5 = -5.554, \n",
        "$\\eta$ = 3, \n",
        "$p_u$ = 0.3732, \n",
        "$p_m$ = 0.2491, \n",
        "$p_d$ = 0.3777, \n",
        "price=0.1726, \n",
        "$\\Delta$ = 0.19247 ]  \n",
        "0:  \n",
        "[ index:(1, 0), \n",
        "$h^2$*1e5 = 10.5215, \n",
        "$\\mu$*1e5 = -5.2608, \n",
        "$\\eta$ = 3, \n",
        "$p_u$ = 0.3535, \n",
        "$p_m$ = 0.2888, \n",
        "$p_d$ = 0.3578, \n",
        "price=0.55274, \n",
        "$\\Delta$ = 0.50304 ,  \n",
        "index:(1, 0), \n",
        "$h^2$*1e5 = 10.5215, \n",
        "$\\mu$*1e5 = -5.2608, \n",
        "$\\eta$ = 3, \n",
        "$p_u$ = 0.3535, \n",
        "$p_m$ = 0.2888, \n",
        "$p_d$ = 0.3578, \n",
        "price=0.55274, \n",
        "$\\Delta$ = 0.50304 ]  \n",
        "3:  \n",
        "[ index:(1, 3), \n",
        "$h^2$*1e5 = 11.1186, \n",
        "$\\mu$*1e5 = -5.5593, \n",
        "$\\eta$ = 3, \n",
        "$p_u$ = 0.3735, \n",
        "$p_m$ = 0.2484, \n",
        "$p_d$ = 0.3781, \n",
        "price=1.39859, \n",
        "$\\Delta$ = 0.81218 ,  \n",
        "index:(1, 3), \n",
        "$h^2$*1e5 = 11.1186, \n",
        "$\\mu$*1e5 = -5.5593, \n",
        "$\\eta$ = 3, \n",
        "$p_u$ = 0.3735, \n",
        "$p_m$ = 0.2484, \n",
        "$p_d$ = 0.3781, \n",
        "price=1.39859, \n",
        "$\\Delta$ = 0.81218 ]  \n",
        "\n",
        "2:  \n",
        "-6:  \n",
        "[ index:(2, -6), \n",
        "$h^2$*1e5 =  = 11.241, \n",
        "$\\mu$*1e5 = -5.6205, \n",
        "$\\eta$ = 3, \n",
        "$p_u$ = 0.3776, \n",
        "$p_m$ = 0.2401, \n",
        "$p_d$ = 0.3822, \n",
        "price=0.0, \n",
        "$\\Delta$ = 0.0 ,  \n",
        "index:(2, -6), \n",
        "$h^2$*1e5 = 11.241, \n",
        "$\\mu$*1e5 = -5.6205, \n",
        "$\\eta$ = 3, \n",
        "$p_u$ = 0.3776, \n",
        "$p_m$ = 0.2401, \n",
        "$p_d$ = 0.3822, \n",
        "price=0.0, \n",
        "$\\Delta$ = 0.0 ]  \n",
        "-3:  \n",
        "[ index:(2, -3), \n",
        "$h^2$*1e5 = 10.6546, \n",
        "$\\mu$*1e5 = -5.3273, \n",
        "$\\eta$ = 3, \n",
        "$p_u$ = 0.3579, \n",
        "$p_m$ = 0.2798, \n",
        "$p_d$ = 0.3623, \n",
        "price=0.0, \n",
        "$\\Delta$ = 0.0 ,  \n",
        "index:(2, -3), \n",
        "$h^2$*1e5 = 10.7135, \n",
        "$\\mu$*1e5 = -5.3567, \n",
        "$\\eta$ = 3, \n",
        "$p_u$ = 0.3599, \n",
        "$p_m$ = 0.2758, \n",
        "$p_d$ = 0.3643, \n",
        "price=0.0, \n",
        "$\\Delta$ = 0.0 ]  \n",
        "0:  \n",
        "[ index:(2, 0), \n",
        "$h^2$*1e5 = 10.1269, \n",
        "$\\mu$*1e5 = -5.0634, \n",
        "$\\eta$ = 3, \n",
        "$p_u$ = 0.3402, \n",
        "$p_m$ = 0.3154, \n",
        "$p_d$ = 0.3444, \n",
        "price=0.41631, \n",
        "$\\Delta$ = 0.50304 ,  \n",
        "index:(2, 0), \n",
        "$h^2$*1e5 = 11.2518, \n",
        "$\\mu$*1e5 = -5.6259, \n",
        "$\\eta$ = 3, \n",
        "$p_u$ = 0.378, \n",
        "$p_m$ = 0.2394, \n",
        "$p_d$ = 0.3826, \n",
        "price=0.46255, \n",
        "$\\Delta$ = 0.50304 ]  \n",
        "3:  \n",
        "[ index:(2, 3), \n",
        "$h^2$*1e5 = 10.6642, \n",
        "$\\mu$*1e5 = -5.3321, \n",
        "$\\eta$ = 3, \n",
        "$p_u$ = 0.3582, \n",
        "$p_m$ = 0.2791, \n",
        "$p_d$ = 0.3626, \n",
        "price=1.22372, \n",
        "$\\Delta$ = 1.0 ,  \n",
        "index:(2, 3), \n",
        "$h^2$*1e5 = 10.7237, \n",
        "$\\mu$*1e5 = -5.3619, \n",
        "$\\eta$ = 3, \n",
        "$p_u$ = 0.3602, \n",
        "$p_m$ = 0.2751, \n",
        "$p_d$ = 0.3647, \n",
        "price=1.22372, \n",
        "$\\Delta$ = 1.0 ]  \n",
        "6:  \n",
        "[ index:(2, 6), \n",
        "$h^2$*1e5 = 11.2614, \n",
        "$\\mu$*1e5 = -5.6307, \n",
        "$\\eta$ = 3, \n",
        "$p_u$ = 0.3783, \n",
        "$p_m$ = 0.2388, \n",
        "$p_d$ = 0.3829, \n",
        "price=2.46242, \n",
        "$\\Delta$ = 1.0 ,  \n",
        "index:(2, 6), \n",
        "$h^2$*1e5 = 11.2614, \n",
        "$\\mu$*1e5 = -5.6307, \n",
        "$\\eta$ = 3, \n",
        "$p_u$ = 0.3783, \n",
        "$p_m$ = 0.2388, \n",
        "$p_d$ = 0.3829, \n",
        "price=2.46242, \n",
        "$\\Delta$ = 1.0 ]  \n",
        "\n",
        "3:  \n",
        "-9:[index:(3, -9), \n",
        "$h^2$*1e5 = 11.3607, \n",
        "$\\mu$*1e5 = -5.6803, \n",
        "$\\eta$ = 3, \n",
        "$p_u$ = 0.3816, \n",
        "$p_m$ = 0.232, \n",
        "$p_d$ = 0.3863, \n",
        "price=0, \n",
        "$\\Delta$ = inf]  \n",
        "-6:[index:(3, -6), \n",
        "$h^2$*1e5 = 10.7744, \n",
        "$\\mu$*1e5 = -5.3872, \n",
        "$\\eta$ = 3, \n",
        "$p_u$ = 0.3619, \n",
        "$p_m$ = 0.2717, \n",
        "$p_d$ = 0.3664, \n",
        "price=0, \n",
        "$\\Delta$ = inf]  \n",
        "-3:[index:(3, -3), \n",
        "$h^2$*1e5 = 10.2467, \n",
        "$\\mu$*1e5 = -5.1233, \n",
        "$\\eta$ = 3, \n",
        "$p_u$ = 0.3442, \n",
        "$p_m$ = 0.3073, \n",
        "$p_d$ = 0.3484, \n",
        "price=0, \n",
        "$\\Delta$ = inf]  \n",
        "0:[index:(3, 0), \n",
        "$h^2$*1e5 = 9.7717, \n",
        "$\\mu$*1e5 = -4.8858, \n",
        "$\\eta$ = 3, \n",
        "$p_u$ = 0.3283, \n",
        "$p_m$ = 0.3395, \n",
        "$p_d$ = 0.3323, \n",
        "price=0.0, \n",
        "$\\Delta$ = inf]  \n",
        "3:[index:(3, 3), \n",
        "$h^2$*1e5 = 10.2553, \n",
        "$\\mu$*1e5 = -5.1277, \n",
        "$\\eta$ = 3, \n",
        "$p_u$ = 0.3445, \n",
        "$p_m$ = 0.3068, \n",
        "$p_d$ = 0.3487, \n",
        "price=1.22372, \n",
        "$\\Delta$ = inf]  \n",
        "6:[index:(3, 6), \n",
        "$h^2$*1e5 = 10.7928, \n",
        "$\\mu$*1e5 = -5.3964, \n",
        "$\\eta$ = 3, \n",
        "$p_u$ = 0.3626, \n",
        "$p_m$ = 0.2704, \n",
        "$p_d$ = 0.367, \n",
        "price=2.46242, \n",
        "$\\Delta$ = inf]  \n",
        "9:[index:(3, 9), \n",
        "$h^2$*1e5 = 11.39, \n",
        "$\\mu$*1e5 = -5.695, \n",
        "$\\eta$ = 3, \n",
        "$p_u$ = 0.3826, \n",
        "$p_m$ = 0.2301, \n",
        "$p_d$ = 0.3873, \n",
        "price=3.71628, \n",
        "$\\Delta$ = inf]  "
      ],
      "metadata": {
        "id": "DotbLIgM8dfZ"
      }
    },
    {
      "cell_type": "markdown",
      "source": [
        "A hedger is short 10,000 European calls.  \n",
        "As an option covers 100 shares of stock, N = 1,000,000.  \n"
      ],
      "metadata": {
        "id": "8lZ0eiyn7x2i"
      }
    },
    {
      "cell_type": "markdown",
      "source": [
        "0 3 6 3"
      ],
      "metadata": {
        "id": "HqleLnno55yf"
      }
    },
    {
      "cell_type": "code",
      "source": [
        "import numpy as np"
      ],
      "metadata": {
        "id": "rIldRg6lEB30"
      },
      "execution_count": 1,
      "outputs": []
    },
    {
      "cell_type": "code",
      "source": [
        "S = 100\n",
        "node_index = np.array([0,3,6,3])\n",
        "y = np.log(S)+node_index*np.sqrt(0.00006575)/2\n",
        "S = np.exp(y)\n",
        "S"
      ],
      "metadata": {
        "colab": {
          "base_uri": "https://localhost:8080/"
        },
        "id": "gQ7o2mUdCQum",
        "outputId": "19537502-6f9f-4d7e-9db1-67575d179a08"
      },
      "execution_count": null,
      "outputs": [
        {
          "output_type": "execute_result",
          "data": {
            "text/plain": [
              "array([100.        , 101.22372256, 102.46242009, 101.22372256])"
            ]
          },
          "metadata": {},
          "execution_count": 6
        }
      ]
    },
    {
      "cell_type": "code",
      "source": [
        "f = np.array([0.7225, 1.39859, 2.46242, 1.22372])"
      ],
      "metadata": {
        "id": "dlKtXsYGFNUp"
      },
      "execution_count": null,
      "outputs": []
    },
    {
      "cell_type": "code",
      "source": [
        "delta = np.array([0.50397, 0.81218, 1.0, 1.0])\n",
        "delta"
      ],
      "metadata": {
        "colab": {
          "base_uri": "https://localhost:8080/"
        },
        "id": "_jZV8ivNE1R5",
        "outputId": "fbb4288a-d575-4b78-fc2e-054e30500400"
      },
      "execution_count": null,
      "outputs": [
        {
          "output_type": "execute_result",
          "data": {
            "text/plain": [
              "array([0.50397, 0.81218, 1.     , 1.     ])"
            ]
          },
          "metadata": {},
          "execution_count": 16
        }
      ]
    },
    {
      "cell_type": "code",
      "source": [
        "N = 1000000"
      ],
      "metadata": {
        "id": "TLoJatl6KJGk"
      },
      "execution_count": null,
      "outputs": []
    },
    {
      "cell_type": "code",
      "source": [
        "change_delta = delta.copy()\n",
        "change_delta[1:] = delta[1:]-delta[:-1]\n",
        "change_delta"
      ],
      "metadata": {
        "colab": {
          "base_uri": "https://localhost:8080/"
        },
        "id": "DOzdzUgBKAty",
        "outputId": "65a679e5-e444-465c-e1b4-faf3a7821ed2"
      },
      "execution_count": null,
      "outputs": [
        {
          "output_type": "execute_result",
          "data": {
            "text/plain": [
              "array([0.50397, 0.30821, 0.18782, 0.     ])"
            ]
          },
          "metadata": {},
          "execution_count": 18
        }
      ]
    },
    {
      "cell_type": "code",
      "source": [
        "shares_bought = N*change_delta\n",
        "shares_bought"
      ],
      "metadata": {
        "colab": {
          "base_uri": "https://localhost:8080/"
        },
        "id": "7FWRgrCqKuTe",
        "outputId": "7a7d42fd-f860-4d3d-f930-b24a2d03afc0"
      },
      "execution_count": null,
      "outputs": [
        {
          "output_type": "execute_result",
          "data": {
            "text/plain": [
              "array([503970., 308210., 187820.,      0.])"
            ]
          },
          "metadata": {},
          "execution_count": 19
        }
      ]
    },
    {
      "cell_type": "code",
      "source": [
        "cost_shares = S*shares_bought\n",
        "cost_shares"
      ],
      "metadata": {
        "colab": {
          "base_uri": "https://localhost:8080/"
        },
        "id": "juZngbODLVa0",
        "outputId": "7212cd25-600d-4383-b6f4-c9cc61acd0d4"
      },
      "execution_count": null,
      "outputs": [
        {
          "output_type": "execute_result",
          "data": {
            "text/plain": [
              "array([50397000.00000002, 31198163.53059283, 19244491.74158613,\n",
              "              0.        ])"
            ]
          },
          "metadata": {},
          "execution_count": 20
        }
      ]
    },
    {
      "cell_type": "code",
      "source": [
        "cumulative_cost = np.cumsum(cost_shares)\n",
        "cumulative_cost"
      ],
      "metadata": {
        "colab": {
          "base_uri": "https://localhost:8080/"
        },
        "id": "JUdWzd_ZLj8G",
        "outputId": "ab7f618d-fe50-48d7-c8e6-88fb672c7718"
      },
      "execution_count": null,
      "outputs": [
        {
          "output_type": "execute_result",
          "data": {
            "text/plain": [
              "array([5.03970000e+07, 8.15951635e+07, 1.00839655e+08, 1.00839655e+08])"
            ]
          },
          "metadata": {},
          "execution_count": 21
        }
      ]
    },
    {
      "cell_type": "code",
      "source": [
        "cumulative_cost[-1] - N*S[0]"
      ],
      "metadata": {
        "colab": {
          "base_uri": "https://localhost:8080/"
        },
        "id": "MK9KWE9OL1Se",
        "outputId": "e1965624-913f-484a-e6c1-e5b5a7820215"
      },
      "execution_count": null,
      "outputs": [
        {
          "output_type": "execute_result",
          "data": {
            "text/plain": [
              "839655.2721789479"
            ]
          },
          "metadata": {},
          "execution_count": 22
        }
      ]
    },
    {
      "cell_type": "markdown",
      "source": [
        "Monte Carlo"
      ],
      "metadata": {
        "id": "SRxU31CvLQFV"
      }
    },
    {
      "cell_type": "code",
      "source": [
        "#yt1 = yt0 + r - ht**2/2 + ht*epsilon\n",
        "S = 100\n",
        "y0 = np.log(S)\n",
        "yt = y0\n",
        "h=np.sqrt(10.96/1e5)\n",
        "np.random.seed(0)\n",
        "print(np.exp(yt), h**2*1e5)\n",
        "price_path = []\n",
        "price_path.append(S)\n",
        "for t in range(3):\n",
        "  eps = np.random.standard_normal(1)[0]\n",
        "  yt = yt - h**2/2 + h*eps\n",
        "  h = np.sqrt(0.000006575 + 0.9*h**2 + 0.04*h**2*eps**2)\n",
        "  price_path.append(np.exp(yt))\n",
        "  print(np.exp(yt), h**2*1e5, eps)\n",
        "price_path"
      ],
      "metadata": {
        "id": "KGxs2ZCCMvAD",
        "colab": {
          "base_uri": "https://localhost:8080/"
        },
        "outputId": "4caa2801-8bca-45cd-a2fb-e29408e4029e"
      },
      "execution_count": 19,
      "outputs": [
        {
          "output_type": "stream",
          "name": "stdout",
          "text": [
            "100.00000000000004 10.959999999999999\n",
            "101.8583633090849 11.885748489811265 1.764052345967664\n",
            "102.29762019136398 11.430802236166556 0.4001572083672233\n",
            "103.36779218047606 11.383217452518839 0.9787379841057392\n"
          ]
        },
        {
          "output_type": "execute_result",
          "data": {
            "text/plain": [
              "[100, 101.8583633090849, 102.29762019136398, 103.36779218047606]"
            ]
          },
          "metadata": {},
          "execution_count": 19
        }
      ]
    },
    {
      "cell_type": "code",
      "source": [
        "price_range = np.exp(np.log(100)+(np.arange(9)-4)*3*np.sqrt(0.00006575)/2)\n",
        "price_range"
      ],
      "metadata": {
        "colab": {
          "base_uri": "https://localhost:8080/"
        },
        "id": "1j8h5Po5OZDK",
        "outputId": "05eb483a-b751-4ac3-b827-8befa2b4201c"
      },
      "execution_count": 22,
      "outputs": [
        {
          "output_type": "execute_result",
          "data": {
            "text/plain": [
              "array([ 95.25127138,  96.41688268,  97.59675783,  98.79107137,\n",
              "       100.        , 101.22372256, 102.46242009, 103.71627584,\n",
              "       104.98547531])"
            ]
          },
          "metadata": {},
          "execution_count": 22
        }
      ]
    },
    {
      "cell_type": "code",
      "source": [
        "for p in price_path:\n",
        "  print(np.argmin(np.abs(p - price_range)))"
      ],
      "metadata": {
        "colab": {
          "base_uri": "https://localhost:8080/"
        },
        "id": "aOq_mVTmOua8",
        "outputId": "b08357b0-66cf-4023-8f3a-71b1b10d55b2"
      },
      "execution_count": 21,
      "outputs": [
        {
          "output_type": "stream",
          "name": "stdout",
          "text": [
            "4\n",
            "6\n",
            "6\n",
            "7\n"
          ]
        }
      ]
    }
  ]
}