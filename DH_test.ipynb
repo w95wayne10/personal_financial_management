{
  "nbformat": 4,
  "nbformat_minor": 0,
  "metadata": {
    "colab": {
      "name": "DH_test.ipynb",
      "provenance": [],
      "collapsed_sections": [],
      "authorship_tag": "ABX9TyPNP1sLdSZCbsCzgnylPZ9k",
      "include_colab_link": true
    },
    "kernelspec": {
      "name": "python3",
      "display_name": "Python 3"
    },
    "language_info": {
      "name": "python"
    }
  },
  "cells": [
    {
      "cell_type": "markdown",
      "metadata": {
        "id": "view-in-github",
        "colab_type": "text"
      },
      "source": [
        "<a href=\"https://colab.research.google.com/github/w95wayne10/personal_financial_management/blob/master/DH_test.ipynb\" target=\"_parent\"><img src=\"https://colab.research.google.com/assets/colab-badge.svg\" alt=\"Open In Colab\"/></a>"
      ]
    },
    {
      "cell_type": "markdown",
      "source": [
        "A hedger is short 10,000 European calls.  \n",
        "As an option covers 100 shares of stock, N = 1,000,000.  \n"
      ],
      "metadata": {
        "id": "8lZ0eiyn7x2i"
      }
    },
    {
      "cell_type": "code",
      "source": [
        "import numpy as np\n",
        "np.set_printoptions(suppress=True)#, threshold=np.nan)"
      ],
      "metadata": {
        "id": "rIldRg6lEB30"
      },
      "execution_count": 66,
      "outputs": []
    },
    {
      "cell_type": "code",
      "source": [
        "import matplotlib.pyplot as plt"
      ],
      "metadata": {
        "id": "9-8mSQtB6w2H"
      },
      "execution_count": 67,
      "outputs": []
    },
    {
      "cell_type": "code",
      "source": [
        "path = [[(0, 0.927750771702379, 0.50492387781572)],\n",
        " [(-3, 0.3600648867148573, 0.27724626631432464),\n",
        "  (0, 0.8055775046571824, 0.504310291948042),\n",
        "  (3, 1.5883685589703163, 0.730177523716526)],\n",
        " [(-6, 0.06813446289248654, 0.07599625351242185),\n",
        "  (-3, 0.2419495360439564, 0.23306119941252065),\n",
        "  (0, 0.6888771040957733, 0.5038544764892775),\n",
        "  (3, 1.4687311794220197, 0.7725553343754943),\n",
        "  (6, 2.532378302725152, 0.9267069175805999)],\n",
        " [(-9, 0.0, 0.0),\n",
        "  (-6, 5.676960427001858e-15, 6.6062202215069754e-15),\n",
        "  (-3, 0.14824531971747984, 0.1792033133455514),\n",
        "  (0, 0.5336035097784153, 0.5030407282742616),\n",
        "  (3, 1.3738770478825733, 0.8251401380315196),\n",
        "  (6, 2.462420253857317, 1.00000000091774),\n",
        "  (9, 3.716276033166108, 1.0000000010471468)],\n",
        " [(-12, 0.0, 0.0),\n",
        "  (-9, 0.0, 0.0),\n",
        "  (-6, 0.0, 0.0),\n",
        "  (-3, 1.414917823905559e-14, 1.7739603864255697e-14),\n",
        "  (0, 0.38856261091164795, 0.5030407015277545),\n",
        "  (3, 1.2237226232205356, 1.0),\n",
        "  (6, 2.462420163760499, 1.0),\n",
        "  (9, 3.716275927466316, 1.0),\n",
        "  (12, 4.985475409349279, 1.0)],\n",
        " [(-15, 0, 0),\n",
        "  (-12, 0, 0),\n",
        "  (-9, 0, 0),\n",
        "  (-6, 0, 0),\n",
        "  (-3, 0, 0),\n",
        "  (0, 4.263256414560601e-14, 0.5),\n",
        "  (3, 1.223722561217457, 1),\n",
        "  (6, 2.462420091503205, 1),\n",
        "  (9, 3.7162758429322906, 1),\n",
        "  (12, 4.985475310076737, 1),\n",
        "  (15, 6.270206257447484, 1)]]"
      ],
      "metadata": {
        "id": "OYDSrAs3qQMA"
      },
      "execution_count": 68,
      "outputs": []
    },
    {
      "cell_type": "code",
      "source": [
        "layer_num = len(path)\n",
        "sample_size = 1000000\n",
        "np.random.seed(1)\n",
        "EPS = np.random.standard_normal((sample_size,layer_num-1))\n",
        "f = path[0][0][1]"
      ],
      "metadata": {
        "id": "IQtRrW5qkWB1"
      },
      "execution_count": 69,
      "outputs": []
    },
    {
      "cell_type": "code",
      "source": [
        "f"
      ],
      "metadata": {
        "colab": {
          "base_uri": "https://localhost:8080/"
        },
        "id": "0kTQV3nwgcAw",
        "outputId": "10ae1651-6f74-4659-f18f-04f6cbd2bc43"
      },
      "execution_count": 70,
      "outputs": [
        {
          "output_type": "execute_result",
          "data": {
            "text/plain": [
              "0.927750771702379"
            ]
          },
          "metadata": {},
          "execution_count": 70
        }
      ]
    },
    {
      "cell_type": "code",
      "source": [
        "#yt1 = yt0 + r - ht**2/2 + ht*epsilon\n",
        "#Monte Carlo\n",
        "S = 100\n",
        "y0 = np.log(S)\n",
        "YT = np.zeros((sample_size,layer_num))\n",
        "YT[:,0] = y0\n",
        "h = np.sqrt(10.96/1e5)\n",
        "H = np.zeros((sample_size,layer_num))\n",
        "H[:,0] = h\n",
        "PRICE_PATH = np.zeros((sample_size,layer_num))\n",
        "PRICE_PATH[:,0] = S\n",
        "for t in range(layer_num-1):\n",
        "  YT[:,t+1] = YT[:,t]-H[:,t]**2/2 + H[:,t]*EPS[:,t]\n",
        "  H[:,t+1] = np.sqrt(0.000006575 + 0.9*H[:,t]**2 + 0.04*H[:,t]**2*EPS[:,t]**2)\n",
        "  PRICE_PATH[:,t+1] = np.exp(YT[:,t+1])\n",
        "PRICE_PATH"
      ],
      "metadata": {
        "id": "vf9foCqbkc6p",
        "colab": {
          "base_uri": "https://localhost:8080/"
        },
        "outputId": "bf44d214-7489-49c2-c286-f59a1fe47c3a"
      },
      "execution_count": 71,
      "outputs": [
        {
          "output_type": "execute_result",
          "data": {
            "text/plain": [
              "array([[100.        , 101.70949491, 101.03341208, 100.4609823 ,\n",
              "         99.33171381, 100.2342108 ],\n",
              "       [100.        ,  97.61396557,  99.5570001 ,  98.66452625,\n",
              "         99.02268079,  98.7379089 ],\n",
              "       [100.        , 101.53689162,  99.31653448,  98.94689731,\n",
              "         98.51966439,  99.73628939],\n",
              "       ...,\n",
              "       [100.        , 100.49782053, 101.11410102, 102.18731172,\n",
              "        102.67652434, 102.30163868],\n",
              "       [100.        , 100.22926857, 102.29631868, 102.14042254,\n",
              "         99.8604589 ,  99.64941211],\n",
              "       [100.        ,  99.81721178,  99.30588322, 101.28439407,\n",
              "        102.5432635 , 103.62311836]])"
            ]
          },
          "metadata": {},
          "execution_count": 71
        }
      ]
    },
    {
      "cell_type": "code",
      "source": [
        "np.exp(np.log(100)+np.arange(-15,16,3)*np.sqrt(0.00006575)/2)"
      ],
      "metadata": {
        "colab": {
          "base_uri": "https://localhost:8080/"
        },
        "id": "1iTEa3C4TjD6",
        "outputId": "fe6e4875-5f72-4566-d38d-338cd81d2b47"
      },
      "execution_count": 72,
      "outputs": [
        {
          "output_type": "execute_result",
          "data": {
            "text/plain": [
              "array([ 94.09975149,  95.25127138,  96.41688268,  97.59675783,\n",
              "        98.79107137, 100.        , 101.22372256, 102.46242009,\n",
              "       103.71627584, 104.98547531, 106.27020626])"
            ]
          },
          "metadata": {},
          "execution_count": 72
        }
      ]
    },
    {
      "cell_type": "code",
      "source": [
        "NODE_PATH = np.zeros((sample_size,layer_num),dtype=int)\n",
        "DELTA = np.zeros((sample_size,layer_num))\n",
        "for t in range(layer_num):\n",
        "  temp = list(zip(*path[t]))\n",
        "  node_idx = np.array(temp[0])\n",
        "  NODE_PART = np.tile(np.exp(np.log(100)+node_idx*np.sqrt(0.00006575)/2),(sample_size,1))\n",
        "  REAL_PART = np.tile(PRICE_PATH[:,t].reshape((sample_size,1)),(1,node_idx.shape[0]))\n",
        "  odr = np.argmin(np.abs(REAL_PART - NODE_PART),axis= 1)\n",
        "  NODE_PATH[:,t] = node_idx[odr]\n",
        "  delta_idx = np.array(temp[2])\n",
        "  DELTA[:,t] = delta_idx[odr]\n",
        "#no_ex_at_0 = (NODE_PATH[:,-1]==0)&(PRICE_PATH[:,-1]-100<0)\n",
        "#DELTA[no_ex_at_0,-1] = 0\n",
        "NODE_PATH,DELTA"
      ],
      "metadata": {
        "id": "nfmoSzG2kc4H",
        "colab": {
          "base_uri": "https://localhost:8080/"
        },
        "outputId": "0d739e2c-f33e-4a38-d1f0-d588784dead4"
      },
      "execution_count": 73,
      "outputs": [
        {
          "output_type": "execute_result",
          "data": {
            "text/plain": [
              "(array([[ 0,  3,  3,  0, -3,  0],\n",
              "        [ 0, -3,  0, -3, -3, -3],\n",
              "        [ 0,  3, -3, -3, -3,  0],\n",
              "        ...,\n",
              "        [ 0,  0,  3,  6,  6,  6],\n",
              "        [ 0,  0,  6,  6,  0,  0],\n",
              "        [ 0,  0, -3,  3,  6,  9]]),\n",
              " array([[0.50492388, 0.73017752, 0.77255533, 0.50304073, 0.        ,\n",
              "         0.5       ],\n",
              "        [0.50492388, 0.27724627, 0.50385448, 0.17920331, 0.        ,\n",
              "         0.        ],\n",
              "        [0.50492388, 0.73017752, 0.2330612 , 0.17920331, 0.        ,\n",
              "         0.5       ],\n",
              "        ...,\n",
              "        [0.50492388, 0.50431029, 0.77255533, 1.        , 1.        ,\n",
              "         1.        ],\n",
              "        [0.50492388, 0.50431029, 0.92670692, 1.        , 0.5030407 ,\n",
              "         0.5       ],\n",
              "        [0.50492388, 0.50431029, 0.2330612 , 0.82514014, 1.        ,\n",
              "         1.        ]]))"
            ]
          },
          "metadata": {},
          "execution_count": 73
        }
      ]
    },
    {
      "cell_type": "code",
      "source": [
        "#hedge\n",
        "S = 100\n",
        "N = 1000000\n",
        "NODE_INDEX = NODE_PATH.copy()\n",
        "S = PRICE_PATH#np.exp(y)\n",
        "CHANGE_DELTA = DELTA.copy()\n",
        "CHANGE_DELTA[:, 1:] = DELTA[:, 1:]-DELTA[:, :-1]\n",
        "SHARES_BOUGHT = N*CHANGE_DELTA\n",
        "COST_SHARES = S*SHARES_BOUGHT\n",
        "CUMULATIVE_COST = np.cumsum(COST_SHARES, axis=1)\n",
        "result = N*f - CUMULATIVE_COST[:, -1] + N*S[:,0]\n",
        "no_ex = PRICE_PATH[:,-1]-100<0\n",
        "result[no_ex] = N*f - CUMULATIVE_COST[no_ex, -1]\n",
        "zero_ex = NODE_PATH[:,-1]==0\n",
        "result[no_ex&zero_ex] = N*f - CUMULATIVE_COST[no_ex&zero_ex, -1] + N*S[no_ex&zero_ex,-1]/2\n",
        "result[(~no_ex)&zero_ex] = N*f - CUMULATIVE_COST[(~no_ex)&zero_ex, -1] - N*S[(~no_ex)&zero_ex,-1]/2 + N*S[(~no_ex)&zero_ex,0]"
      ],
      "metadata": {
        "id": "43i8bctakweP"
      },
      "execution_count": 91,
      "outputs": []
    },
    {
      "cell_type": "code",
      "source": [
        "result.mean()/N,result.var()**0.5/N"
      ],
      "metadata": {
        "colab": {
          "base_uri": "https://localhost:8080/"
        },
        "id": "CMN1CKsCkzBK",
        "outputId": "43b672cf-7e91-46da-d4ca-0164d0366a97"
      },
      "execution_count": 92,
      "outputs": [
        {
          "output_type": "execute_result",
          "data": {
            "text/plain": [
              "(0.0008936421724288833, 0.3964791409808101)"
            ]
          },
          "metadata": {},
          "execution_count": 92
        }
      ]
    },
    {
      "cell_type": "code",
      "source": [
        "plt.hist(result,np.arange(-48,28)*1e5/2)[2]"
      ],
      "metadata": {
        "colab": {
          "base_uri": "https://localhost:8080/",
          "height": 296
        },
        "id": "2Ull3wJ1k18J",
        "outputId": "a92f6790-4506-4b00-e530-666f50a801f4"
      },
      "execution_count": 93,
      "outputs": [
        {
          "output_type": "execute_result",
          "data": {
            "text/plain": [
              "<a list of 75 Patch objects>"
            ]
          },
          "metadata": {},
          "execution_count": 93
        },
        {
          "output_type": "display_data",
          "data": {
            "text/plain": [
              "<Figure size 432x288 with 1 Axes>"
            ],
            "image/png": "[encoded data removed]"
          },
          "metadata": {
            "needs_background": "light"
          }
        }
      ]
    },
    {
      "cell_type": "code",
      "source": [
        "check = NODE_PATH[:,-1].astype(int)==0\n",
        "check2 = PRICE_PATH[:,-1]>=100"
      ],
      "metadata": {
        "id": "LD7BMFg6m_eq"
      },
      "execution_count": 94,
      "outputs": []
    },
    {
      "cell_type": "code",
      "source": [
        "plt.hist(result[~check],np.arange(-48,28)*1e5/2)[2]"
      ],
      "metadata": {
        "colab": {
          "base_uri": "https://localhost:8080/",
          "height": 295
        },
        "id": "E-vAwvqGmSHs",
        "outputId": "00fb3081-a745-4aea-d9e2-cd02f9cd3ab8"
      },
      "execution_count": 95,
      "outputs": [
        {
          "output_type": "execute_result",
          "data": {
            "text/plain": [
              "<a list of 75 Patch objects>"
            ]
          },
          "metadata": {},
          "execution_count": 95
        },
        {
          "output_type": "display_data",
          "data": {
            "text/plain": [
              "<Figure size 432x288 with 1 Axes>"
            ],
            "image/png": "[encoded data removed]"
          },
          "metadata": {
            "needs_background": "light"
          }
        }
      ]
    },
    {
      "cell_type": "code",
      "source": [
        "plt.hist(result[check],np.arange(-48,28)*1e5/2)[2]"
      ],
      "metadata": {
        "colab": {
          "base_uri": "https://localhost:8080/",
          "height": 295
        },
        "id": "S0WMISAtnBxQ",
        "outputId": "3432f86f-d441-4044-d5cd-486e3292a3fa"
      },
      "execution_count": 96,
      "outputs": [
        {
          "output_type": "execute_result",
          "data": {
            "text/plain": [
              "<a list of 75 Patch objects>"
            ]
          },
          "metadata": {},
          "execution_count": 96
        },
        {
          "output_type": "display_data",
          "data": {
            "text/plain": [
              "<Figure size 432x288 with 1 Axes>"
            ],
            "image/png": "[encoded data removed]"
          },
          "metadata": {
            "needs_background": "light"
          }
        }
      ]
    },
    {
      "cell_type": "code",
      "source": [
        "plt.hist(result[check&check2],np.arange(-48,28)*1e5/2)[2]"
      ],
      "metadata": {
        "colab": {
          "base_uri": "https://localhost:8080/",
          "height": 295
        },
        "id": "lr7V1PGmpVhh",
        "outputId": "31041922-4050-44a9-f388-e00bf3b642d0"
      },
      "execution_count": 97,
      "outputs": [
        {
          "output_type": "execute_result",
          "data": {
            "text/plain": [
              "<a list of 75 Patch objects>"
            ]
          },
          "metadata": {},
          "execution_count": 97
        },
        {
          "output_type": "display_data",
          "data": {
            "text/plain": [
              "<Figure size 432x288 with 1 Axes>"
            ],
            "image/png": "[encoded data removed]"
          },
          "metadata": {
            "needs_background": "light"
          }
        }
      ]
    },
    {
      "cell_type": "code",
      "source": [
        "plt.hist(result[check&(~check2)],np.arange(-48,28)*1e5/2)[2]"
      ],
      "metadata": {
        "colab": {
          "base_uri": "https://localhost:8080/",
          "height": 295
        },
        "id": "L64_44Z8pg7H",
        "outputId": "b9e37b18-ba8a-4c47-8d7b-4ac7b6497f39"
      },
      "execution_count": 98,
      "outputs": [
        {
          "output_type": "execute_result",
          "data": {
            "text/plain": [
              "<a list of 75 Patch objects>"
            ]
          },
          "metadata": {},
          "execution_count": 98
        },
        {
          "output_type": "display_data",
          "data": {
            "text/plain": [
              "<Figure size 432x288 with 1 Axes>"
            ],
            "image/png": "[encoded data removed]"
          },
          "metadata": {
            "needs_background": "light"
          }
        }
      ]
    },
    {
      "cell_type": "code",
      "source": [
        ""
      ],
      "metadata": {
        "id": "DC60IkhvW0IL"
      },
      "execution_count": 82,
      "outputs": []
    }
  ]
}