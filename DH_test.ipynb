{
  "nbformat": 4,
  "nbformat_minor": 0,
  "metadata": {
    "colab": {
      "name": "DH_test.ipynb",
      "provenance": [],
      "collapsed_sections": [],
      "authorship_tag": "ABX9TyO5HpIFANtIDuzbBDtGDTdp",
      "include_colab_link": true
    },
    "kernelspec": {
      "name": "python3",
      "display_name": "Python 3"
    },
    "language_info": {
      "name": "python"
    }
  },
  "cells": [
    {
      "cell_type": "markdown",
      "metadata": {
        "id": "view-in-github",
        "colab_type": "text"
      },
      "source": [
        "<a href=\"https://colab.research.google.com/github/w95wayne10/personal_financial_management/blob/master/DH_test.ipynb\" target=\"_parent\"><img src=\"https://colab.research.google.com/assets/colab-badge.svg\" alt=\"Open In Colab\"/></a>"
      ]
    },
    {
      "cell_type": "markdown",
      "source": [
        "A hedger is short 10,000 European calls.  \n",
        "As an option covers 100 shares of stock, N = 1,000,000.  \n"
      ],
      "metadata": {
        "id": "8lZ0eiyn7x2i"
      }
    },
    {
      "cell_type": "code",
      "source": [
        "import numpy as np\n",
        "np.set_printoptions(suppress=True)#, threshold=np.nan)"
      ],
      "metadata": {
        "id": "rIldRg6lEB30"
      },
      "execution_count": 20,
      "outputs": []
    },
    {
      "cell_type": "code",
      "source": [
        "import matplotlib.pyplot as plt"
      ],
      "metadata": {
        "id": "9-8mSQtB6w2H"
      },
      "execution_count": 21,
      "outputs": []
    },
    {
      "cell_type": "code",
      "source": [
        "path = [[(0, 0.927750771702379, 0.50492387781572)],\n",
        " [(-3, 0.3600648867148573, 0.27724626631432464),\n",
        "  (0, 0.8055775046571824, 0.504310291948042),\n",
        "  (3, 1.5883685589703163, 0.730177523716526)],\n",
        " [(-6, 0.06813446289248654, 0.07599625351242185),\n",
        "  (-3, 0.2419495360439564, 0.23306119941252065),\n",
        "  (0, 0.6888771040957733, 0.5038544764892775),\n",
        "  (3, 1.4687311794220197, 0.7725553343754943),\n",
        "  (6, 2.532378302725152, 0.9267069175805999)],\n",
        " [(-9, 0.0, 0.0),\n",
        "  (-6, 5.676960427001858e-15, 6.6062202215069754e-15),\n",
        "  (-3, 0.14824531971747984, 0.1792033133455514),\n",
        "  (0, 0.5336035097784153, 0.5030407282742616),\n",
        "  (3, 1.3738770478825733, 0.8251401380315196),\n",
        "  (6, 2.462420253857317, 1.00000000091774),\n",
        "  (9, 3.716276033166108, 1.0000000010471468)],\n",
        " [(-12, 0.0, 0.0),\n",
        "  (-9, 0.0, 0.0),\n",
        "  (-6, 0.0, 0.0),\n",
        "  (-3, 1.414917823905559e-14, 1.7739603864255697e-14),\n",
        "  (0, 0.38856261091164795, 0.5030407015277545),\n",
        "  (3, 1.2237226232205356, 1.0),\n",
        "  (6, 2.462420163760499, 1.0),\n",
        "  (9, 3.716275927466316, 1.0),\n",
        "  (12, 4.985475409349279, 1.0)],\n",
        " [(-15, 0, 0),\n",
        "  (-12, 0, 0),\n",
        "  (-9, 0, 0),\n",
        "  (-6, 0, 0),\n",
        "  (-3, 0, 0),\n",
        "  (0, 4.263256414560601e-14, 1),\n",
        "  (3, 1.223722561217457, 1),\n",
        "  (6, 2.462420091503205, 1),\n",
        "  (9, 3.7162758429322906, 1),\n",
        "  (12, 4.985475310076737, 1),\n",
        "  (15, 6.270206257447484, 1)]]"
      ],
      "metadata": {
        "id": "OYDSrAs3qQMA"
      },
      "execution_count": 22,
      "outputs": []
    },
    {
      "cell_type": "code",
      "source": [
        "layer_num = len(path)\n",
        "sample_size = 10000000\n",
        "np.random.seed(1)\n",
        "EPS = np.random.standard_normal((sample_size,layer_num-1))"
      ],
      "metadata": {
        "id": "IQtRrW5qkWB1"
      },
      "execution_count": 23,
      "outputs": []
    },
    {
      "cell_type": "code",
      "source": [
        "#yt1 = yt0 + r - ht**2/2 + ht*epsilon\n",
        "#Monte Carlo\n",
        "S = 100\n",
        "y0 = np.log(S)\n",
        "YT = np.zeros((sample_size,layer_num))\n",
        "YT[:,0] = y0\n",
        "h = np.sqrt(10.96/1e5)\n",
        "H = np.zeros((sample_size,layer_num))\n",
        "H[:,0] = h\n",
        "PRICE_PATH = np.zeros((sample_size,layer_num))\n",
        "PRICE_PATH[:,0] = S\n",
        "for t in range(layer_num-1):\n",
        "  YT[:,t+1] = YT[:,t]-H[:,t]**2/2 + H[:,t]*EPS[:,t]\n",
        "  H[:,t+1] = np.sqrt(0.000006575 + 0.9*H[:,t]**2 + 0.04*H[:,t]**2*EPS[:,t]**2)\n",
        "  PRICE_PATH[:,t+1] = np.exp(YT[:,t+1])"
      ],
      "metadata": {
        "id": "vf9foCqbkc6p"
      },
      "execution_count": 24,
      "outputs": []
    },
    {
      "cell_type": "code",
      "source": [
        "NODE_PATH = np.zeros((sample_size,layer_num))\n",
        "F = np.zeros((sample_size,layer_num))\n",
        "DELTA = np.zeros((sample_size,layer_num))\n",
        "for t in range(layer_num):\n",
        "  temp = list(zip(*path[t]))\n",
        "  node_idx = np.array(temp[0])\n",
        "  NODE_PART = np.tile(np.exp(np.log(100)+node_idx*np.sqrt(0.00006575)/2),(sample_size,1))\n",
        "  REAL_PART = np.tile(PRICE_PATH[:,t].reshape((sample_size,1)),(1,node_idx.shape[0]))\n",
        "  odr = np.argmin(np.abs(REAL_PART - NODE_PART),axis= 1)\n",
        "  NODE_PATH[:,t] = node_idx[odr]\n",
        "  f_idx = np.array(temp[1])\n",
        "  delta_idx = np.array(temp[2])\n",
        "  F[:,t] = f_idx[odr]\n",
        "  DELTA[:,t] = delta_idx[odr]\n",
        "#NODE_PATH,F,DELTA"
      ],
      "metadata": {
        "id": "nfmoSzG2kc4H"
      },
      "execution_count": 25,
      "outputs": []
    },
    {
      "cell_type": "code",
      "source": [
        "#hedge\n",
        "S = 100\n",
        "N = 1000000\n",
        "NODE_INDEX = NODE_PATH.copy()\n",
        "S = PRICE_PATH#np.exp(y)\n",
        "CHANGE_DELTA = DELTA.copy()\n",
        "CHANGE_DELTA[:, 1:] = DELTA[:, 1:]-DELTA[:, :-1]\n",
        "SHARES_BOUGHT = N*CHANGE_DELTA\n",
        "COST_SHARES = S*SHARES_BOUGHT\n",
        "CUMULATIVE_COST = np.cumsum(COST_SHARES, axis=1)\n",
        "result = N*F[:,0] - (CUMULATIVE_COST[:, -1] - N*S[:,0])\n",
        "no_ex = ~DELTA[:,-1].astype(int).astype(bool)\n",
        "result[no_ex] = N*F[no_ex,0] - CUMULATIVE_COST[no_ex, -1]"
      ],
      "metadata": {
        "id": "43i8bctakweP"
      },
      "execution_count": 26,
      "outputs": []
    },
    {
      "cell_type": "code",
      "source": [
        "result.mean()/N,result.var()**0.5/N"
      ],
      "metadata": {
        "colab": {
          "base_uri": "https://localhost:8080/"
        },
        "id": "CMN1CKsCkzBK",
        "outputId": "ba14aef8-8d99-4910-f769-758aca695e32"
      },
      "execution_count": 27,
      "outputs": [
        {
          "output_type": "execute_result",
          "data": {
            "text/plain": [
              "(0.03232842894893319, 0.42581687784034483)"
            ]
          },
          "metadata": {},
          "execution_count": 27
        }
      ]
    },
    {
      "cell_type": "code",
      "source": [
        "plt.hist(result,np.arange(-48,28)*1e5/2)[2]"
      ],
      "metadata": {
        "colab": {
          "base_uri": "https://localhost:8080/",
          "height": 295
        },
        "id": "2Ull3wJ1k18J",
        "outputId": "0bed0ebf-c7d7-4782-b83e-dc75483c52e8"
      },
      "execution_count": 45,
      "outputs": [
        {
          "output_type": "execute_result",
          "data": {
            "text/plain": [
              "<a list of 75 Patch objects>"
            ]
          },
          "metadata": {},
          "execution_count": 45
        },
        {
          "output_type": "display_data",
          "data": {
            "text/plain": [
              "<Figure size 432x288 with 1 Axes>"
            ],
            "image/png": "[encoded data removed]"
          },
          "metadata": {
            "needs_background": "light"
          }
        }
      ]
    },
    {
      "cell_type": "code",
      "source": [
        "check = NODE_PATH[:,-1].astype(int)==0"
      ],
      "metadata": {
        "id": "LD7BMFg6m_eq"
      },
      "execution_count": 36,
      "outputs": []
    },
    {
      "cell_type": "code",
      "source": [
        "plt.hist(result[~check],np.arange(-48,28)*1e5/2)[2]"
      ],
      "metadata": {
        "colab": {
          "base_uri": "https://localhost:8080/",
          "height": 295
        },
        "id": "E-vAwvqGmSHs",
        "outputId": "11f74002-8a2c-4899-f5df-26875e45506b"
      },
      "execution_count": 47,
      "outputs": [
        {
          "output_type": "execute_result",
          "data": {
            "text/plain": [
              "<a list of 75 Patch objects>"
            ]
          },
          "metadata": {},
          "execution_count": 47
        },
        {
          "output_type": "display_data",
          "data": {
            "text/plain": [
              "<Figure size 432x288 with 1 Axes>"
            ],
            "image/png": "[encoded data removed]"
          },
          "metadata": {
            "needs_background": "light"
          }
        }
      ]
    },
    {
      "cell_type": "code",
      "source": [
        "plt.hist(result[check],np.arange(-48,28)*1e5/2)[2]"
      ],
      "metadata": {
        "colab": {
          "base_uri": "https://localhost:8080/",
          "height": 295
        },
        "id": "S0WMISAtnBxQ",
        "outputId": "58896524-f699-49cc-e283-470957a16f0c"
      },
      "execution_count": 48,
      "outputs": [
        {
          "output_type": "execute_result",
          "data": {
            "text/plain": [
              "<a list of 75 Patch objects>"
            ]
          },
          "metadata": {},
          "execution_count": 48
        },
        {
          "output_type": "display_data",
          "data": {
            "text/plain": [
              "<Figure size 432x288 with 1 Axes>"
            ],
            "image/png": "[encoded data removed]"
          },
          "metadata": {
            "needs_background": "light"
          }
        }
      ]
    },
    {
      "cell_type": "code",
      "source": [
        "check2 = PRICE_PATH[:,-1]>=100"
      ],
      "metadata": {
        "id": "DNE7HDlBpIFI"
      },
      "execution_count": 52,
      "outputs": []
    },
    {
      "cell_type": "code",
      "source": [
        "plt.hist(result[check&check2],np.arange(-48,28)*1e5/2)[2]"
      ],
      "metadata": {
        "colab": {
          "base_uri": "https://localhost:8080/",
          "height": 295
        },
        "id": "lr7V1PGmpVhh",
        "outputId": "a5d77bda-6b81-4d23-a403-743106b441b5"
      },
      "execution_count": 53,
      "outputs": [
        {
          "output_type": "execute_result",
          "data": {
            "text/plain": [
              "<a list of 75 Patch objects>"
            ]
          },
          "metadata": {},
          "execution_count": 53
        },
        {
          "output_type": "display_data",
          "data": {
            "text/plain": [
              "<Figure size 432x288 with 1 Axes>"
            ],
            "image/png": "[encoded data removed]"
          },
          "metadata": {
            "needs_background": "light"
          }
        }
      ]
    },
    {
      "cell_type": "code",
      "source": [
        "plt.hist(result[check&(~check2)],np.arange(-48,28)*1e5/2)[2]"
      ],
      "metadata": {
        "colab": {
          "base_uri": "https://localhost:8080/",
          "height": 295
        },
        "id": "L64_44Z8pg7H",
        "outputId": "05128a0d-ed91-4574-b643-0aedad6fd679"
      },
      "execution_count": 54,
      "outputs": [
        {
          "output_type": "execute_result",
          "data": {
            "text/plain": [
              "<a list of 75 Patch objects>"
            ]
          },
          "metadata": {},
          "execution_count": 54
        },
        {
          "output_type": "display_data",
          "data": {
            "text/plain": [
              "<Figure size 432x288 with 1 Axes>"
            ],
            "image/png": "[encoded data removed]"
          },
          "metadata": {
            "needs_background": "light"
          }
        }
      ]
    }
  ]
}