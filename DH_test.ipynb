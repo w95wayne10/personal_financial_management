{
  "nbformat": 4,
  "nbformat_minor": 0,
  "metadata": {
    "colab": {
      "name": "DH_test.ipynb",
      "provenance": [],
      "collapsed_sections": [],
      "authorship_tag": "ABX9TyPuwcu9h1JNbCMhvJIxaKbj",
      "include_colab_link": true
    },
    "kernelspec": {
      "name": "python3",
      "display_name": "Python 3"
    },
    "language_info": {
      "name": "python"
    }
  },
  "cells": [
    {
      "cell_type": "markdown",
      "metadata": {
        "id": "view-in-github",
        "colab_type": "text"
      },
      "source": [
        "<a href=\"https://colab.research.google.com/github/w95wayne10/personal_financial_management/blob/master/DH_test.ipynb\" target=\"_parent\"><img src=\"https://colab.research.google.com/assets/colab-badge.svg\" alt=\"Open In Colab\"/></a>"
      ]
    },
    {
      "cell_type": "markdown",
      "source": [
        "A hedger is short 10,000 European calls.  \n",
        "As an option covers 100 shares of stock, N = 1,000,000.  \n"
      ],
      "metadata": {
        "id": "8lZ0eiyn7x2i"
      }
    },
    {
      "cell_type": "markdown",
      "source": [
        "0 3 6 3"
      ],
      "metadata": {
        "id": "HqleLnno55yf"
      }
    },
    {
      "cell_type": "code",
      "source": [
        "import numpy as np"
      ],
      "metadata": {
        "id": "rIldRg6lEB30"
      },
      "execution_count": 1,
      "outputs": []
    },
    {
      "cell_type": "code",
      "source": [
        "# 2: 0: 0.41631 and 0.46255\n",
        "path = [ \n",
        " {0:(0.7225, 0.50397)},\n",
        " {-3:(0.1726,0.19247),0:(0.55274,0.50304),3:(1.39859,0.81218)},\n",
        " {-6:(0.0,0.0), -3:(0.0, 0.0), 0:(0.41631, 0.50304), 3:(1.22372, 1.0), 6:(2.46242, 1.0)},\n",
        " {-9:(0, 1.0), -6:(0,1.0), -3:(0, 1.0), 0:(0.0, 1.0), 3:(1.22372, 1.0), 6:(2.46242, 1.0), 9:(3.71628, 1.0)}\n",
        "]"
      ],
      "metadata": {
        "id": "OYDSrAs3qQMA"
      },
      "execution_count": 21,
      "outputs": []
    },
    {
      "cell_type": "code",
      "source": [
        "price_range = np.exp(np.log(100)+(np.arange(9)-4)*3*np.sqrt(0.00006575)/2)"
      ],
      "metadata": {
        "id": "VOzoh-vQupco"
      },
      "execution_count": null,
      "outputs": []
    },
    {
      "cell_type": "code",
      "source": [
        "#yt1 = yt0 + r - ht**2/2 + ht*epsilon\n",
        "#Monte Carlo\n",
        "S = 100\n",
        "y0 = np.log(S)\n",
        "yt = y0\n",
        "h=np.sqrt(10.96/1e5)\n",
        "#np.random.seed(1)\n",
        "print(np.exp(yt), h**2*1e5)\n",
        "price_path = []\n",
        "price_path.append(S)\n",
        "for t in range(3):\n",
        "  eps = np.random.standard_normal(1)[0]\n",
        "  yt = yt - h**2/2 + h*eps\n",
        "  h = np.sqrt(0.000006575 + 0.9*h**2 + 0.04*h**2*eps**2)\n",
        "  price_path.append(np.exp(yt))\n",
        "  print(np.exp(yt), h**2*1e5, eps)\n",
        "node_path = []\n",
        "for idx, p in enumerate(price_path):\n",
        "  a = idx*2+1\n",
        "  b = a//2\n",
        "  node_path.append(int((np.argmin(np.abs(p - np.exp(np.log(100)+(np.arange(a)-b)*3*np.sqrt(0.00006575)/2)))-b)*3))\n",
        "node_path = np.array(node_path)\n",
        "node_path"
      ],
      "metadata": {
        "colab": {
          "base_uri": "https://localhost:8080/"
        },
        "id": "4vx6yKJbuUlv",
        "outputId": "4c9ce5ba-526a-4101-858f-fe1485dceee9"
      },
      "execution_count": 33,
      "outputs": [
        {
          "output_type": "stream",
          "name": "stdout",
          "text": [
            "100.00000000000004 10.959999999999999\n",
            "99.73380902561811 10.548762160098264 -0.2493703754774101\n",
            "101.23746336093711 11.05341465538064 1.462107937044974\n",
            "99.06282826180312 12.48208033266524 -2.060140709497654\n"
          ]
        },
        {
          "output_type": "execute_result",
          "data": {
            "text/plain": [
              "array([ 0,  0,  3, -3])"
            ]
          },
          "metadata": {},
          "execution_count": 33
        }
      ]
    },
    {
      "cell_type": "code",
      "source": [
        "#hedge\n",
        "S = 100\n",
        "N = 1000000\n",
        "node_index = node_path.copy()\n",
        "y = np.log(S)+node_index*np.sqrt(0.00006575)/2\n",
        "S = np.exp(y)\n",
        "temp = []\n",
        "for idx, node in enumerate(node_index):\n",
        "  temp.append(path[idx][node])\n",
        "f,delta = list(zip(*temp))\n",
        "f = np.array(f)\n",
        "delta = np.array(delta)\n",
        "change_delta = delta.copy()\n",
        "change_delta[1:] = delta[1:]-delta[:-1]\n",
        "shares_bought = N*change_delta\n",
        "cost_shares = S*shares_bought\n",
        "cumulative_cost = np.cumsum(cost_shares)\n",
        "cumulative_cost[-1] - N*S[0]"
      ],
      "metadata": {
        "colab": {
          "base_uri": "https://localhost:8080/"
        },
        "id": "NswA-ikgvS6N",
        "outputId": "dcdeaee3-1672-43e1-ad8f-82656d8a6584"
      },
      "execution_count": 34,
      "outputs": [
        {
          "output_type": "execute_result",
          "data": {
            "text/plain": [
              "608141.1640226096"
            ]
          },
          "metadata": {},
          "execution_count": 34
        }
      ]
    }
  ]
}