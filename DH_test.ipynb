{
  "nbformat": 4,
  "nbformat_minor": 0,
  "metadata": {
    "colab": {
      "name": "DH_test.ipynb",
      "provenance": [],
      "authorship_tag": "ABX9TyOGj5016lKyJV1NDq+J3J+8",
      "include_colab_link": true
    },
    "kernelspec": {
      "name": "python3",
      "display_name": "Python 3"
    },
    "language_info": {
      "name": "python"
    }
  },
  "cells": [
    {
      "cell_type": "markdown",
      "metadata": {
        "id": "view-in-github",
        "colab_type": "text"
      },
      "source": [
        "<a href=\"https://colab.research.google.com/github/w95wayne10/personal_financial_management/blob/master/DH_test.ipynb\" target=\"_parent\"><img src=\"https://colab.research.google.com/assets/colab-badge.svg\" alt=\"Open In Colab\"/></a>"
      ]
    },
    {
      "cell_type": "markdown",
      "source": [
        "0:  \n",
        "0:  \n",
        "[index:(0, 0), \n",
        "h**2*1e5=10.96, \n",
        "mu=-5.48, \n",
        "a=0, \n",
        "eta=3, \n",
        "pu=0.3682, \n",
        "pm=0.2591, \n",
        "pd=0.3727, \n",
        "price=0.56263, \n",
        "delta=0.50304]  \n",
        "\n",
        "1:  \n",
        "-3:  \n",
        "[index:(1, -3), \n",
        "h**2*1e5=11.1079, \n",
        "mu=-5.554, \n",
        "a=0, \n",
        "eta=3, \n",
        "pu=0.3732, \n",
        "pm=0.2491, \n",
        "pd=0.3777, \n",
        "price=0.0, \n",
        "delta=0.0]  \n",
        "0:  \n",
        "[index:(1, 0), \n",
        "h**2*1e5=10.5215, \n",
        "mu=-5.2608, \n",
        "a=0, \n",
        "eta=3, \n",
        "pu=0.3535, \n",
        "pm=0.2888, \n",
        "pd=0.3578, \n",
        "price=0.43253, \n",
        "delta=0.50304]  \n",
        "3:  \n",
        "[index:(1, 3), \n",
        "h**2*1e5=11.1186, \n",
        "mu=-5.5593, \n",
        "a=0, \n",
        "eta=3, \n",
        "pu=0.3735, \n",
        "pm=0.2484, \n",
        "pd=0.3781, \n",
        "price=1.22372, \n",
        "delta=1.0]  \n",
        "\n",
        "2:  \n",
        "\n",
        "-6:  \n",
        "[index:(2, -6), \n",
        "h**2*1e5=11.241, \n",
        "mu=-5.6205, \n",
        "a=0, \n",
        "eta=3, \n",
        "pu=0.3776, \n",
        "pm=0.2401, \n",
        "pd=0.3822, \n",
        "price=0, \n",
        "delta=inf]  \n",
        "\n",
        "-3:  \n",
        "[index:(2, -3), \n",
        "h**2*1e5=10.6546, \n",
        "mu=-5.3273, \n",
        "a=0, \n",
        "eta=3, \n",
        "pu=0.3579, \n",
        "pm=0.2798, \n",
        "pd=0.3623, \n",
        "price=0, \n",
        "delta=inf,  \n",
        "index:(2, -3), \n",
        "h**2*1e5=10.7135, \n",
        "mu=-5.3567, \n",
        "a=0, \n",
        "eta=3, \n",
        "pu=0.3599, \n",
        "pm=0.2758, \n",
        "pd=0.3643, \n",
        "price=0, \n",
        "delta=inf]  \n",
        "\n",
        "0:  \n",
        "[index:(2, 0), \n",
        "h**2*1e5=10.1269, \n",
        "mu=-5.0634, \n",
        "a=0, \n",
        "eta=3, \n",
        "pu=0.3402, \n",
        "pm=0.3154, \n",
        "pd=0.3444, \n",
        "price=0.0, \n",
        "delta=inf,  \n",
        "index:(2, 0), \n",
        "h**2*1e5=11.2518, \n",
        "mu=-5.6259, \n",
        "a=0, \n",
        "eta=3, \n",
        "pu=0.378, \n",
        "pm=0.2394, \n",
        "pd=0.3826, \n",
        "price=0.0, \n",
        "delta=inf]  \n",
        "\n",
        "3:  \n",
        "[index:(2, 3), \n",
        "h**2*1e5=10.6642, \n",
        "mu=-5.3321, \n",
        "a=0, \n",
        "eta=3, \n",
        "pu=0.3582, \n",
        "pm=0.2791, \n",
        "pd=0.3626, \n",
        "price=1.22372, \n",
        "delta=inf,  \n",
        "index:(2, 3), \n",
        "h**2*1e5=10.7237, \n",
        "mu=-5.3619, \n",
        "a=0, \n",
        "eta=3, \n",
        "pu=0.3602, \n",
        "pm=0.2751, \n",
        "pd=0.3647, \n",
        "price=1.22372, \n",
        "delta=inf]  \n",
        "\n",
        "6:  \n",
        "[index:(2, 6), \n",
        "h**2*1e5=11.2614, \n",
        "mu=-5.6307, \n",
        "a=0, \n",
        "eta=3, \n",
        "pu=0.3783, \n",
        "pm=0.2388, \n",
        "pd=0.3829, \n",
        "price=2.46242, \n",
        "delta=inf]  "
      ],
      "metadata": {
        "id": "DotbLIgM8dfZ"
      }
    },
    {
      "cell_type": "code",
      "execution_count": null,
      "metadata": {
        "id": "NJsph8Ee56Oi"
      },
      "outputs": [],
      "source": [
        ""
      ]
    },
    {
      "cell_type": "markdown",
      "source": [
        "A hedger is short 10,000 European calls.  \n",
        "As an option covers 100 shares of stock, N = 1,000,000.  \n"
      ],
      "metadata": {
        "id": "8lZ0eiyn7x2i"
      }
    },
    {
      "cell_type": "markdown",
      "source": [
        "0:\n",
        "0:\n",
        "[index:(0, 0), \n",
        "h**2*1e5=10.96, \n",
        "mu=-5.48, \n",
        "a=0, \n",
        "eta=3, \n",
        "pu=0.3682, \n",
        "pm=0.2591, \n",
        "pd=0.3727, \n",
        "price=0.56263, \n",
        "delta=0.50304]"
      ],
      "metadata": {
        "id": "3lCI3dj_8Jgu"
      }
    },
    {
      "cell_type": "code",
      "source": [
        "N = 1000000\n",
        "delta = 0.50304\n",
        "stock_number = N*delta"
      ],
      "metadata": {
        "id": "WJdHnZtG7wi4"
      },
      "execution_count": 1,
      "outputs": []
    },
    {
      "cell_type": "code",
      "source": [
        ""
      ],
      "metadata": {
        "id": "pcHpFDwH8Zn2"
      },
      "execution_count": null,
      "outputs": []
    }
  ]
}